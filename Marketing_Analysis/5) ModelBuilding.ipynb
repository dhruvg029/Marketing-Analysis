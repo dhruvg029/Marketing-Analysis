{
 "cells": [
  {
   "cell_type": "markdown",
   "id": "2cce7fcf",
   "metadata": {},
   "source": [
    "# Model Building\n",
    "Here model is implemented with the help of various steps like: \n",
    "- Training various models\n",
    "- Hyperparamater Tuning by using GridSearchCV on the best model\n",
    "- Stratified K-fold sampling combined with RandomSearchCV for Class Imbalance"
   ]
  },
  {
   "cell_type": "code",
   "execution_count": 37,
   "id": "b037ad6b",
   "metadata": {},
   "outputs": [],
   "source": [
    "#!pip install prettytable"
   ]
  },
  {
   "cell_type": "markdown",
   "id": "9f337489",
   "metadata": {},
   "source": [
    "## Importing and Reading Data"
   ]
  },
  {
   "cell_type": "code",
   "execution_count": 1,
   "id": "f0f372cd",
   "metadata": {},
   "outputs": [],
   "source": [
    "# Importing necessary libraries\n",
    "import pandas as pd\n",
    "import numpy as np\n",
    "\n",
    "# For model training\n",
    "from sklearn.model_selection import train_test_split\n",
    "from sklearn.linear_model import LogisticRegression\n",
    "from sklearn.ensemble import GradientBoostingClassifier\n",
    "from sklearn.svm import SVC\n",
    "from sklearn.metrics import *\n",
    "\n",
    "# For ignoring the warnings\n",
    "import warnings\n",
    "warnings.filterwarnings('ignore')\n",
    "\n",
    "from sklearn.metrics import *"
   ]
  },
  {
   "cell_type": "code",
   "execution_count": 9,
   "id": "74c2d088",
   "metadata": {},
   "outputs": [
    {
     "data": {
      "text/html": [
       "<div>\n",
       "<style scoped>\n",
       "    .dataframe tbody tr th:only-of-type {\n",
       "        vertical-align: middle;\n",
       "    }\n",
       "\n",
       "    .dataframe tbody tr th {\n",
       "        vertical-align: top;\n",
       "    }\n",
       "\n",
       "    .dataframe thead th {\n",
       "        text-align: right;\n",
       "    }\n",
       "</style>\n",
       "<table border=\"1\" class=\"dataframe\">\n",
       "  <thead>\n",
       "    <tr style=\"text-align: right;\">\n",
       "      <th></th>\n",
       "      <th>age</th>\n",
       "      <th>duration</th>\n",
       "      <th>campaign</th>\n",
       "      <th>pdays</th>\n",
       "      <th>previous</th>\n",
       "      <th>cons.conf.idx</th>\n",
       "      <th>euribor3m</th>\n",
       "      <th>nr.employed</th>\n",
       "      <th>job</th>\n",
       "      <th>marital</th>\n",
       "      <th>education</th>\n",
       "      <th>default</th>\n",
       "      <th>housing</th>\n",
       "      <th>loan</th>\n",
       "      <th>contact</th>\n",
       "      <th>month</th>\n",
       "      <th>day_of_week</th>\n",
       "      <th>poutcome</th>\n",
       "      <th>Customer_Response</th>\n",
       "    </tr>\n",
       "  </thead>\n",
       "  <tbody>\n",
       "    <tr>\n",
       "      <th>0</th>\n",
       "      <td>0.750000</td>\n",
       "      <td>0.474498</td>\n",
       "      <td>0.0</td>\n",
       "      <td>0.0</td>\n",
       "      <td>0.0</td>\n",
       "      <td>0.685714</td>\n",
       "      <td>0.8</td>\n",
       "      <td>0.859735</td>\n",
       "      <td>7</td>\n",
       "      <td>1</td>\n",
       "      <td>3</td>\n",
       "      <td>1</td>\n",
       "      <td>0</td>\n",
       "      <td>1</td>\n",
       "      <td>0</td>\n",
       "      <td>6</td>\n",
       "      <td>1</td>\n",
       "      <td>0</td>\n",
       "      <td>0</td>\n",
       "    </tr>\n",
       "    <tr>\n",
       "      <th>1</th>\n",
       "      <td>0.538462</td>\n",
       "      <td>0.306028</td>\n",
       "      <td>0.0</td>\n",
       "      <td>0.0</td>\n",
       "      <td>0.0</td>\n",
       "      <td>0.685714</td>\n",
       "      <td>0.8</td>\n",
       "      <td>0.859735</td>\n",
       "      <td>7</td>\n",
       "      <td>1</td>\n",
       "      <td>2</td>\n",
       "      <td>1</td>\n",
       "      <td>0</td>\n",
       "      <td>0</td>\n",
       "      <td>0</td>\n",
       "      <td>6</td>\n",
       "      <td>1</td>\n",
       "      <td>0</td>\n",
       "      <td>0</td>\n",
       "    </tr>\n",
       "    <tr>\n",
       "      <th>2</th>\n",
       "      <td>0.807692</td>\n",
       "      <td>0.214838</td>\n",
       "      <td>0.0</td>\n",
       "      <td>0.0</td>\n",
       "      <td>0.0</td>\n",
       "      <td>0.685714</td>\n",
       "      <td>0.8</td>\n",
       "      <td>0.859735</td>\n",
       "      <td>0</td>\n",
       "      <td>1</td>\n",
       "      <td>5</td>\n",
       "      <td>1</td>\n",
       "      <td>0</td>\n",
       "      <td>0</td>\n",
       "      <td>0</td>\n",
       "      <td>6</td>\n",
       "      <td>1</td>\n",
       "      <td>0</td>\n",
       "      <td>0</td>\n",
       "    </tr>\n",
       "    <tr>\n",
       "      <th>3</th>\n",
       "      <td>0.461538</td>\n",
       "      <td>0.335394</td>\n",
       "      <td>0.0</td>\n",
       "      <td>0.0</td>\n",
       "      <td>0.0</td>\n",
       "      <td>0.685714</td>\n",
       "      <td>0.8</td>\n",
       "      <td>0.859735</td>\n",
       "      <td>1</td>\n",
       "      <td>1</td>\n",
       "      <td>6</td>\n",
       "      <td>1</td>\n",
       "      <td>0</td>\n",
       "      <td>0</td>\n",
       "      <td>0</td>\n",
       "      <td>6</td>\n",
       "      <td>1</td>\n",
       "      <td>0</td>\n",
       "      <td>0</td>\n",
       "    </tr>\n",
       "    <tr>\n",
       "      <th>4</th>\n",
       "      <td>0.134615</td>\n",
       "      <td>0.587326</td>\n",
       "      <td>0.0</td>\n",
       "      <td>0.0</td>\n",
       "      <td>0.0</td>\n",
       "      <td>0.685714</td>\n",
       "      <td>0.8</td>\n",
       "      <td>0.859735</td>\n",
       "      <td>9</td>\n",
       "      <td>2</td>\n",
       "      <td>5</td>\n",
       "      <td>1</td>\n",
       "      <td>1</td>\n",
       "      <td>0</td>\n",
       "      <td>0</td>\n",
       "      <td>6</td>\n",
       "      <td>1</td>\n",
       "      <td>0</td>\n",
       "      <td>0</td>\n",
       "    </tr>\n",
       "  </tbody>\n",
       "</table>\n",
       "</div>"
      ],
      "text/plain": [
       "        age  duration  campaign  pdays  previous  cons.conf.idx  euribor3m  \\\n",
       "0  0.750000  0.474498       0.0    0.0       0.0       0.685714        0.8   \n",
       "1  0.538462  0.306028       0.0    0.0       0.0       0.685714        0.8   \n",
       "2  0.807692  0.214838       0.0    0.0       0.0       0.685714        0.8   \n",
       "3  0.461538  0.335394       0.0    0.0       0.0       0.685714        0.8   \n",
       "4  0.134615  0.587326       0.0    0.0       0.0       0.685714        0.8   \n",
       "\n",
       "   nr.employed  job  marital  education  default  housing  loan  contact  \\\n",
       "0     0.859735    7        1          3        1        0     1        0   \n",
       "1     0.859735    7        1          2        1        0     0        0   \n",
       "2     0.859735    0        1          5        1        0     0        0   \n",
       "3     0.859735    1        1          6        1        0     0        0   \n",
       "4     0.859735    9        2          5        1        1     0        0   \n",
       "\n",
       "   month  day_of_week  poutcome  Customer_Response  \n",
       "0      6            1         0                  0  \n",
       "1      6            1         0                  0  \n",
       "2      6            1         0                  0  \n",
       "3      6            1         0                  0  \n",
       "4      6            1         0                  0  "
      ]
     },
     "execution_count": 9,
     "metadata": {},
     "output_type": "execute_result"
    }
   ],
   "source": [
    "# Reading and importing data\n",
    "data = pd.read_csv('TrainingData.csv')\n",
    "data.head()"
   ]
  },
  {
   "cell_type": "code",
   "execution_count": 10,
   "id": "c844fae2",
   "metadata": {},
   "outputs": [],
   "source": [
    "# Converting the data into numerical data\n",
    "data['Customer_Response'] = data['Customer_Response'].astype(int)\n",
    "\n",
    "c = ['job', 'month', 'day_of_week']\n",
    "\n",
    "for i in c:\n",
    "    data[c] = data[c].astype('uint8')"
   ]
  },
  {
   "cell_type": "markdown",
   "id": "d7a7795a",
   "metadata": {},
   "source": [
    "## Model Building and Training"
   ]
  },
  {
   "cell_type": "code",
   "execution_count": 11,
   "id": "1205640b",
   "metadata": {},
   "outputs": [],
   "source": [
    "# The features\n",
    "X = data.drop(['Customer_Response'], axis = 1)\n",
    "\n",
    "# The target variable\n",
    "y = data['Customer_Response']\n",
    "\n",
    "# Splitting the data into training and testing\n",
    "X_train, X_test, y_train, y_test = train_test_split(X, y, test_size = 0.2, random_state = 42)"
   ]
  },
  {
   "cell_type": "code",
   "execution_count": 12,
   "id": "ee35449f",
   "metadata": {},
   "outputs": [],
   "source": [
    "# Appending the results\n",
    "train_accuracy_results = []\n",
    "test_accuracy_results = []\n",
    "precision_results = []\n",
    "recall_results = []\n",
    "\n",
    "# Creating a training function\n",
    "def training(X_train, X_test, y_train, y_test):\n",
    "    \n",
    "    # Initializing the model names to be used for training\n",
    "    model_names = ['LogisticRegression', 'SVC', 'GradientBoostingClassifier']\n",
    "        \n",
    "    # Calling the objects of the models\n",
    "    model_object = [('LogisticRegression', LogisticRegression(max_iter = 2000)), ('SVC', SVC()), \n",
    "                    ('GradientBoostingClassifier', GradientBoostingClassifier())]\n",
    "    \n",
    "    # Initializing the prediction values = 0\n",
    "    y_pred_lr = 0\n",
    "    y_pred_sv = 0\n",
    "    y_pred_gb = 0\n",
    "    \n",
    "    for model_obj, model in model_object:\n",
    "        \n",
    "        # If the model is LogisticRegression\n",
    "        if model_obj == 'LogisticRegression':\n",
    "            print('Running', model_obj)\n",
    "            model = model\n",
    "            \n",
    "            # Training the model\n",
    "            model.fit(X_train, y_train)\n",
    "            \n",
    "            # Predicting the model\n",
    "            y_pred_lr = model.predict(X_test)\n",
    "            \n",
    "            # Calculating metrics\n",
    "            accuracy = accuracy_score(y_test, y_pred_lr).round(3)\n",
    "            precision = precision_score(y_test, y_pred_lr).round(3)\n",
    "            recall = recall_score(y_test, y_pred_lr).round(3)\n",
    "            \n",
    "            y_pred_train_lr = model.predict(X_train)\n",
    "            accuracy_training = accuracy_score(y_train, y_pred_train_lr).round(3)\n",
    "            \n",
    "            # Appending the results\n",
    "            train_accuracy_results.append(accuracy_training)            \n",
    "            test_accuracy_results.append(accuracy)\n",
    "            precision_results.append(precision)\n",
    "            recall_results.append(recall)\n",
    "            \n",
    "        # If the model is SVC\n",
    "        elif model_obj == 'SVC':\n",
    "            print('Running', model_obj)\n",
    "            model = model\n",
    "            \n",
    "            # Training the model\n",
    "            model.fit(X_train, y_train)\n",
    "            \n",
    "            # Predicting the model\n",
    "            y_pred_sv = model.predict(X_test)\n",
    "            \n",
    "            # Calculating metrics\n",
    "            accuracy = accuracy_score(y_test, y_pred_sv).round(3)\n",
    "            precision = precision_score(y_test, y_pred_sv).round(3)\n",
    "            recall = recall_score(y_test, y_pred_sv).round(3)\n",
    "            \n",
    "            y_pred_train_sv = model.predict(X_train)\n",
    "            accuracy_training = accuracy_score(y_train, y_pred_train_sv).round(3)\n",
    "            \n",
    "            # Appending the results\n",
    "            test_accuracy_results.append(accuracy)\n",
    "            precision_results.append(precision)\n",
    "            recall_results.append(recall)\n",
    "            train_accuracy_results.append(accuracy_training)\n",
    "            \n",
    "        # If the model is GradientBoostingClassifier\n",
    "        elif model_obj == 'GradientBoostingClassifier':\n",
    "            print('Running', model_obj)\n",
    "            model = model\n",
    "            \n",
    "            # Training the model\n",
    "            model.fit(X_train, y_train)\n",
    "            \n",
    "            # Predicting the model\n",
    "            y_pred_gb = model.predict(X_test)\n",
    "            \n",
    "            # Calculating metrics\n",
    "            accuracy = accuracy_score(y_test, y_pred_gb).round(3)\n",
    "            precision = precision_score(y_test, y_pred_gb).round(3)\n",
    "            recall = recall_score(y_test, y_pred_gb).round(3)\n",
    "            \n",
    "            y_pred_train_gb = model.predict(X_train)\n",
    "            accuracy_training = accuracy_score(y_train, y_pred_train_gb).round(3)\n",
    "            \n",
    "            # Appending the results\n",
    "            test_accuracy_results.append(accuracy)\n",
    "            precision_results.append(precision)\n",
    "            recall_results.append(recall)\n",
    "            train_accuracy_results.append(accuracy_training)            "
   ]
  },
  {
   "cell_type": "code",
   "execution_count": 13,
   "id": "b10a6a05",
   "metadata": {},
   "outputs": [
    {
     "name": "stdout",
     "output_type": "stream",
     "text": [
      "Running LogisticRegression\n",
      "Running SVC\n",
      "Running GradientBoostingClassifier\n",
      "{'ccp_alpha': 0.0, 'criterion': 'friedman_mse', 'init': None, 'learning_rate': 0.1, 'loss': 'log_loss', 'max_depth': 3, 'max_features': None, 'max_leaf_nodes': None, 'min_impurity_decrease': 0.0, 'min_samples_leaf': 1, 'min_samples_split': 2, 'min_weight_fraction_leaf': 0.0, 'n_estimators': 100, 'n_iter_no_change': None, 'random_state': None, 'subsample': 1.0, 'tol': 0.0001, 'validation_fraction': 0.1, 'verbose': 0, 'warm_start': False}\n"
     ]
    }
   ],
   "source": [
    "# Calling the function and training the models\n",
    "training(X_train, X_test, y_train, y_test)"
   ]
  },
  {
   "cell_type": "code",
   "execution_count": 14,
   "id": "c4f764ff",
   "metadata": {},
   "outputs": [
    {
     "name": "stdout",
     "output_type": "stream",
     "text": [
      "+--------------------+-------+----------------------------+\n",
      "| LogisticRegression |  SVC  | GradientBoostingClassifier |\n",
      "+--------------------+-------+----------------------------+\n",
      "|       0.905        | 0.898 |           0.916            |\n",
      "|       0.903        | 0.896 |           0.912            |\n",
      "|       0.682        | 0.652 |           0.683            |\n",
      "|       0.295        | 0.194 |           0.434            |\n",
      "+--------------------+-------+----------------------------+\n"
     ]
    }
   ],
   "source": [
    "# Printing the table with values\n",
    "from prettytable import PrettyTable\n",
    "\n",
    "model_names = ['LogisticRegression', 'SVC', 'GradientBoostingClassifier']\n",
    "\n",
    "results = PrettyTable(model_names)\n",
    "\n",
    "# results.add_column('Metrics', ['Train_ACC', 'Test_ACC', 'Precision', 'Recall'])\n",
    "results.add_row(train_accuracy_results)\n",
    "results.add_row(test_accuracy_results)\n",
    "results.add_row(precision_results)\n",
    "results.add_row(recall_results)\n",
    "\n",
    "print(results)"
   ]
  },
  {
   "cell_type": "markdown",
   "id": "30e2c6b9",
   "metadata": {},
   "source": [
    "Here, the first row shows the **training accuracy**, second shows **test accuracy**, third shows **precision** and fourth, **recall** values."
   ]
  },
  {
   "cell_type": "markdown",
   "id": "3c6ee000",
   "metadata": {},
   "source": [
    "#### As Gradient Boosting Classifier is performing the best in terms of both testing and training accuracy it is chosen as base model\n",
    "- But the model may perform better after hyper parameter tuning\n",
    "- We can focus on improving recall and accuracy"
   ]
  },
  {
   "cell_type": "markdown",
   "id": "9054a760",
   "metadata": {},
   "source": [
    "## Hyperparamater Tuning\n",
    "\n",
    "Here, we will do a hyperparameter using for our Gradient Boosting Classifier and check whether the tuning will help increase the performance of the existing model or not. We have initialized a **parameter grid**, and performed a **RandomizedSearchCV** operation to check for appropriate paramaters."
   ]
  },
  {
   "cell_type": "code",
   "execution_count": 27,
   "id": "e75d1d66",
   "metadata": {},
   "outputs": [],
   "source": [
    "param_grid = {\n",
    "    'n_estimators': [75, 100],\n",
    "    'learning_rate': [0.08, 0.1],\n",
    "    'max_depth': [2, 3],\n",
    "    'min_samples_split': [1, 2],\n",
    "    'min_samples_leaf': [1, 3],\n",
    "    'subsample': [0.8, 1]\n",
    "}"
   ]
  },
  {
   "cell_type": "code",
   "execution_count": 31,
   "id": "c7e662d9",
   "metadata": {},
   "outputs": [],
   "source": [
    "# Doing a hyperparamter tuning on GradientBoostingClassifier()\n",
    "from sklearn.model_selection import GridSearchCV\n",
    "\n",
    "gb_classifier = GradientBoostingClassifier()\n",
    "\n",
    "# Performing RandomizedSearchCV on gb_classifier\n",
    "grid_search = GridSearchCV(estimator=gb_classifier, param_grid=param_grid, scoring='accuracy', cv=5, n_jobs=-1)"
   ]
  },
  {
   "cell_type": "code",
   "execution_count": 32,
   "id": "da79ed35",
   "metadata": {},
   "outputs": [
    {
     "name": "stdout",
     "output_type": "stream",
     "text": [
      "Best Hyperparameters: {'learning_rate': 0.1, 'max_depth': 3, 'min_samples_leaf': 3, 'min_samples_split': 2, 'n_estimators': 100, 'subsample': 0.8}\n"
     ]
    }
   ],
   "source": [
    "# Fitting the model and training\n",
    "grid_search.fit(X_train, y_train)\n",
    "\n",
    "# Searching for the best paramaters\n",
    "best_params = grid_search.best_params_\n",
    "print('Best Hyperparameters:', best_params)"
   ]
  },
  {
   "cell_type": "code",
   "execution_count": 33,
   "id": "48dd9da3",
   "metadata": {},
   "outputs": [
    {
     "name": "stdout",
     "output_type": "stream",
     "text": [
      "Accuracy on Test Set: 0.9128792987188132\n"
     ]
    }
   ],
   "source": [
    "# The test accuracy after the tuning\n",
    "best_model = grid_search.best_estimator_\n",
    "y_pred_test_best = best_model.predict(X_test)\n",
    "\n",
    "# Printing the test_accuracy\n",
    "accuracy = accuracy_score(y_test, y_pred_test_best)\n",
    "test_accuracy_results.append(accuracy)\n",
    "\n",
    "print('Accuracy on Test Set:', accuracy)"
   ]
  },
  {
   "cell_type": "code",
   "execution_count": 34,
   "id": "93a084ad",
   "metadata": {},
   "outputs": [
    {
     "name": "stdout",
     "output_type": "stream",
     "text": [
      "Accuracy on Training Set: 0.9159051825875847\n"
     ]
    }
   ],
   "source": [
    "# The train accuracy after the tuning\n",
    "y_pred_train_best = best_model.predict(X_train)\n",
    "\n",
    "# Printing the training_accuracy\n",
    "accuracy = accuracy_score(y_train, y_pred_train_best)\n",
    "train_accuracy_results.append(accuracy)\n",
    "\n",
    "print('Accuracy on Training Set:', accuracy)"
   ]
  },
  {
   "cell_type": "code",
   "execution_count": 35,
   "id": "74e9f08a",
   "metadata": {},
   "outputs": [
    {
     "name": "stdout",
     "output_type": "stream",
     "text": [
      "0.6887661141804788 0.4394829612220917\n"
     ]
    }
   ],
   "source": [
    "# The precision and recall \n",
    "precision = precision_score(y_test, y_pred_test_best, average='binary') \n",
    "recall = recall_score(y_test, y_pred_test_best, average='binary')\n",
    "\n",
    "precision_results.append(precision)\n",
    "recall_results.append(recall)\n",
    "\n",
    "# Printing the precision and recall values\n",
    "print(precision, recall)"
   ]
  },
  {
   "cell_type": "markdown",
   "id": "0de6204b",
   "metadata": {},
   "source": [
    "### Hyper parameter tuning improved the following\n",
    "- Testing accuracy\n",
    "- Recall\n",
    "- Reduced over-fit\n",
    "#### Other hyper parameter tuning applied\n",
    "- SMOTE was applied but showed high compromise in accuracy\n",
    "- RandomSearchCV was applied but showed in consistent results and less recall reducing dependability"
   ]
  },
  {
   "cell_type": "markdown",
   "id": "98e76cf4",
   "metadata": {},
   "source": [
    "## Hyperparameter tuning on stratified data"
   ]
  },
  {
   "cell_type": "code",
   "execution_count": 42,
   "id": "e93d8710",
   "metadata": {},
   "outputs": [
    {
     "data": {
      "text/html": [
       "<style>#sk-container-id-2 {color: black;background-color: white;}#sk-container-id-2 pre{padding: 0;}#sk-container-id-2 div.sk-toggleable {background-color: white;}#sk-container-id-2 label.sk-toggleable__label {cursor: pointer;display: block;width: 100%;margin-bottom: 0;padding: 0.3em;box-sizing: border-box;text-align: center;}#sk-container-id-2 label.sk-toggleable__label-arrow:before {content: \"▸\";float: left;margin-right: 0.25em;color: #696969;}#sk-container-id-2 label.sk-toggleable__label-arrow:hover:before {color: black;}#sk-container-id-2 div.sk-estimator:hover label.sk-toggleable__label-arrow:before {color: black;}#sk-container-id-2 div.sk-toggleable__content {max-height: 0;max-width: 0;overflow: hidden;text-align: left;background-color: #f0f8ff;}#sk-container-id-2 div.sk-toggleable__content pre {margin: 0.2em;color: black;border-radius: 0.25em;background-color: #f0f8ff;}#sk-container-id-2 input.sk-toggleable__control:checked~div.sk-toggleable__content {max-height: 200px;max-width: 100%;overflow: auto;}#sk-container-id-2 input.sk-toggleable__control:checked~label.sk-toggleable__label-arrow:before {content: \"▾\";}#sk-container-id-2 div.sk-estimator input.sk-toggleable__control:checked~label.sk-toggleable__label {background-color: #d4ebff;}#sk-container-id-2 div.sk-label input.sk-toggleable__control:checked~label.sk-toggleable__label {background-color: #d4ebff;}#sk-container-id-2 input.sk-hidden--visually {border: 0;clip: rect(1px 1px 1px 1px);clip: rect(1px, 1px, 1px, 1px);height: 1px;margin: -1px;overflow: hidden;padding: 0;position: absolute;width: 1px;}#sk-container-id-2 div.sk-estimator {font-family: monospace;background-color: #f0f8ff;border: 1px dotted black;border-radius: 0.25em;box-sizing: border-box;margin-bottom: 0.5em;}#sk-container-id-2 div.sk-estimator:hover {background-color: #d4ebff;}#sk-container-id-2 div.sk-parallel-item::after {content: \"\";width: 100%;border-bottom: 1px solid gray;flex-grow: 1;}#sk-container-id-2 div.sk-label:hover label.sk-toggleable__label {background-color: #d4ebff;}#sk-container-id-2 div.sk-serial::before {content: \"\";position: absolute;border-left: 1px solid gray;box-sizing: border-box;top: 0;bottom: 0;left: 50%;z-index: 0;}#sk-container-id-2 div.sk-serial {display: flex;flex-direction: column;align-items: center;background-color: white;padding-right: 0.2em;padding-left: 0.2em;position: relative;}#sk-container-id-2 div.sk-item {position: relative;z-index: 1;}#sk-container-id-2 div.sk-parallel {display: flex;align-items: stretch;justify-content: center;background-color: white;position: relative;}#sk-container-id-2 div.sk-item::before, #sk-container-id-2 div.sk-parallel-item::before {content: \"\";position: absolute;border-left: 1px solid gray;box-sizing: border-box;top: 0;bottom: 0;left: 50%;z-index: -1;}#sk-container-id-2 div.sk-parallel-item {display: flex;flex-direction: column;z-index: 1;position: relative;background-color: white;}#sk-container-id-2 div.sk-parallel-item:first-child::after {align-self: flex-end;width: 50%;}#sk-container-id-2 div.sk-parallel-item:last-child::after {align-self: flex-start;width: 50%;}#sk-container-id-2 div.sk-parallel-item:only-child::after {width: 0;}#sk-container-id-2 div.sk-dashed-wrapped {border: 1px dashed gray;margin: 0 0.4em 0.5em 0.4em;box-sizing: border-box;padding-bottom: 0.4em;background-color: white;}#sk-container-id-2 div.sk-label label {font-family: monospace;font-weight: bold;display: inline-block;line-height: 1.2em;}#sk-container-id-2 div.sk-label-container {text-align: center;}#sk-container-id-2 div.sk-container {/* jupyter's `normalize.less` sets `[hidden] { display: none; }` but bootstrap.min.css set `[hidden] { display: none !important; }` so we also need the `!important` here to be able to override the default hidden behavior on the sphinx rendered scikit-learn.org. See: https://github.com/scikit-learn/scikit-learn/issues/21755 */display: inline-block !important;position: relative;}#sk-container-id-2 div.sk-text-repr-fallback {display: none;}</style><div id=\"sk-container-id-2\" class=\"sk-top-container\"><div class=\"sk-text-repr-fallback\"><pre>RandomizedSearchCV(cv=StratifiedKFold(n_splits=5, random_state=42, shuffle=True),\n",
       "                   estimator=RandomForestClassifier(), n_jobs=-1,\n",
       "                   param_distributions={&#x27;max_depth&#x27;: &lt;scipy.stats._distn_infrastructure.rv_discrete_frozen object at 0x0000014CCB84D7D0&gt;,\n",
       "                                        &#x27;min_samples_leaf&#x27;: &lt;scipy.stats._distn_infrastructure.rv_discrete_frozen object at 0x0000014CCD435990&gt;,\n",
       "                                        &#x27;min_samples_split&#x27;: &lt;scipy.stats._distn_infrastructure.rv_discrete_frozen object at 0x0000014CCD437C10&gt;,\n",
       "                                        &#x27;n_estimators&#x27;: &lt;scipy.stats._distn_infrastructure.rv_discrete_frozen object at 0x0000014CCD475F10&gt;},\n",
       "                   random_state=42, scoring=&#x27;accuracy&#x27;)</pre><b>In a Jupyter environment, please rerun this cell to show the HTML representation or trust the notebook. <br />On GitHub, the HTML representation is unable to render, please try loading this page with nbviewer.org.</b></div><div class=\"sk-container\" hidden><div class=\"sk-item sk-dashed-wrapped\"><div class=\"sk-label-container\"><div class=\"sk-label sk-toggleable\"><input class=\"sk-toggleable__control sk-hidden--visually\" id=\"sk-estimator-id-4\" type=\"checkbox\" ><label for=\"sk-estimator-id-4\" class=\"sk-toggleable__label sk-toggleable__label-arrow\">RandomizedSearchCV</label><div class=\"sk-toggleable__content\"><pre>RandomizedSearchCV(cv=StratifiedKFold(n_splits=5, random_state=42, shuffle=True),\n",
       "                   estimator=RandomForestClassifier(), n_jobs=-1,\n",
       "                   param_distributions={&#x27;max_depth&#x27;: &lt;scipy.stats._distn_infrastructure.rv_discrete_frozen object at 0x0000014CCB84D7D0&gt;,\n",
       "                                        &#x27;min_samples_leaf&#x27;: &lt;scipy.stats._distn_infrastructure.rv_discrete_frozen object at 0x0000014CCD435990&gt;,\n",
       "                                        &#x27;min_samples_split&#x27;: &lt;scipy.stats._distn_infrastructure.rv_discrete_frozen object at 0x0000014CCD437C10&gt;,\n",
       "                                        &#x27;n_estimators&#x27;: &lt;scipy.stats._distn_infrastructure.rv_discrete_frozen object at 0x0000014CCD475F10&gt;},\n",
       "                   random_state=42, scoring=&#x27;accuracy&#x27;)</pre></div></div></div><div class=\"sk-parallel\"><div class=\"sk-parallel-item\"><div class=\"sk-item\"><div class=\"sk-label-container\"><div class=\"sk-label sk-toggleable\"><input class=\"sk-toggleable__control sk-hidden--visually\" id=\"sk-estimator-id-5\" type=\"checkbox\" ><label for=\"sk-estimator-id-5\" class=\"sk-toggleable__label sk-toggleable__label-arrow\">estimator: RandomForestClassifier</label><div class=\"sk-toggleable__content\"><pre>RandomForestClassifier()</pre></div></div></div><div class=\"sk-serial\"><div class=\"sk-item\"><div class=\"sk-estimator sk-toggleable\"><input class=\"sk-toggleable__control sk-hidden--visually\" id=\"sk-estimator-id-6\" type=\"checkbox\" ><label for=\"sk-estimator-id-6\" class=\"sk-toggleable__label sk-toggleable__label-arrow\">RandomForestClassifier</label><div class=\"sk-toggleable__content\"><pre>RandomForestClassifier()</pre></div></div></div></div></div></div></div></div></div></div>"
      ],
      "text/plain": [
       "RandomizedSearchCV(cv=StratifiedKFold(n_splits=5, random_state=42, shuffle=True),\n",
       "                   estimator=RandomForestClassifier(), n_jobs=-1,\n",
       "                   param_distributions={'max_depth': <scipy.stats._distn_infrastructure.rv_discrete_frozen object at 0x0000014CCB84D7D0>,\n",
       "                                        'min_samples_leaf': <scipy.stats._distn_infrastructure.rv_discrete_frozen object at 0x0000014CCD435990>,\n",
       "                                        'min_samples_split': <scipy.stats._distn_infrastructure.rv_discrete_frozen object at 0x0000014CCD437C10>,\n",
       "                                        'n_estimators': <scipy.stats._distn_infrastructure.rv_discrete_frozen object at 0x0000014CCD475F10>},\n",
       "                   random_state=42, scoring='accuracy')"
      ]
     },
     "execution_count": 42,
     "metadata": {},
     "output_type": "execute_result"
    }
   ],
   "source": [
    "from sklearn.model_selection import StratifiedKFold\n",
    "from sklearn.ensemble import RandomForestClassifier\n",
    "from scipy.stats import randint\n",
    "\n",
    "# Define the hyperparameter grid\n",
    "param_dist_cv = {\n",
    "    'n_estimators': randint(10, 200),\n",
    "    'max_depth': randint(1, 20),\n",
    "    'min_samples_split': randint(2, 20),\n",
    "    'min_samples_leaf': randint(1, 20),\n",
    "}\n",
    "\n",
    "# Create a random forest classifier\n",
    "rf_classifier = RandomForestClassifier()\n",
    "\n",
    "# Create a Stratified K-Fold object\n",
    "stratified_kfold = StratifiedKFold(n_splits=5, shuffle=True, random_state=42)\n",
    "\n",
    "# Create a RandomizedSearchCV object\n",
    "random_search_cv = RandomizedSearchCV(rf_classifier, param_distributions=param_dist_cv, n_iter=10,\n",
    "                                      scoring='accuracy', cv=stratified_kfold, random_state=42, n_jobs=-1)\n",
    "\n",
    "# Fit the model on the training set\n",
    "random_search_cv.fit(X_train, y_train)"
   ]
  },
  {
   "cell_type": "code",
   "execution_count": 43,
   "id": "55a2b38f",
   "metadata": {},
   "outputs": [
    {
     "name": "stdout",
     "output_type": "stream",
     "text": [
      "Test Accuracy: 0.908\n"
     ]
    }
   ],
   "source": [
    "# Evaluate on the test set\n",
    "y_pred_test_cv = random_search_cv.predict(X_test)\n",
    "accuracy_test_cv = accuracy_score(y_test, y_pred_test_cv).round(3)\n",
    "print(\"Test Accuracy:\", accuracy_test_cv)"
   ]
  },
  {
   "cell_type": "code",
   "execution_count": 44,
   "id": "150ce674",
   "metadata": {},
   "outputs": [
    {
     "name": "stdout",
     "output_type": "stream",
     "text": [
      "Accuracy on Training Set: 0.919\n"
     ]
    }
   ],
   "source": [
    "# Evaluate on the training set\n",
    "y_pred_train_cv = random_search_cv.predict(X_train)\n",
    "accuracy_train_cv = accuracy_score(y_train, y_pred_train_cv).round(3)\n",
    "print(\"Accuracy on Training Set:\", accuracy_train_cv)"
   ]
  },
  {
   "cell_type": "code",
   "execution_count": 45,
   "id": "b7a1df50",
   "metadata": {},
   "outputs": [
    {
     "name": "stdout",
     "output_type": "stream",
     "text": [
      "0.791 0.383\n"
     ]
    }
   ],
   "source": [
    "# Precision and Recall\n",
    "precision = precision_score(y_train, y_pred_train_cv, average='binary').round(3)\n",
    "recall = recall_score(y_train, y_pred_train_cv, average='binary').round(3)  \n",
    "precision_results.append(precision)\n",
    "recall_results.append(recall)\n",
    "print(precision, recall)"
   ]
  },
  {
   "cell_type": "markdown",
   "id": "6d515a39",
   "metadata": {},
   "source": [
    "### Overfit is reduced slightly but the model is compromised on accuracy\n",
    "- Model also is now lacking on recall which is a crucial measure for marketing strategies\n",
    "\n",
    "- Hence it is better to avoid Stratified K-fold sampling and choose our prior best model"
   ]
  },
  {
   "cell_type": "markdown",
   "id": "b399d1dc",
   "metadata": {},
   "source": [
    "# AUC-ROC curve"
   ]
  },
  {
   "cell_type": "code",
   "execution_count": 27,
   "id": "49bb0a26",
   "metadata": {},
   "outputs": [
    {
     "name": "stdout",
     "output_type": "stream",
     "text": [
      "AUC Score:  0.949\n"
     ]
    }
   ],
   "source": [
    "# Printing the AUC-ROC score\n",
    "from sklearn.metrics import roc_curve, auc\n",
    "\n",
    "# Predicting the score with the help of FPR and TPR\n",
    "y_prob = best_model.predict_proba(X_test)[:, 1]\n",
    "fpr, tpr, thresholds = roc_curve(y_test, y_prob)\n",
    "roc_auc = auc(fpr, tpr)\n",
    "\n",
    "print('AUC Score: ', roc_auc.round(3))"
   ]
  },
  {
   "cell_type": "code",
   "execution_count": 20,
   "id": "d14bcde8",
   "metadata": {},
   "outputs": [
    {
     "data": {
      "image/png": "[encoded data removed]",
      "text/plain": [
       "<Figure size 1000x600 with 1 Axes>"
      ]
     },
     "metadata": {},
     "output_type": "display_data"
    }
   ],
   "source": [
    "# Plotting the curve\n",
    "import matplotlib.pyplot as plt\n",
    "\n",
    "plt.figure(figsize=(10, 6))\n",
    "\n",
    "# Plotting the graph\n",
    "plt.plot(fpr, tpr, color='darkorange', lw=2, label='ROC curve (area = {:.2f})'.format(roc_auc))\n",
    "plt.plot([0, 1], [0, 1], color='navy', lw=2, linestyle='--', label='Random')\n",
    "\n",
    "plt.xlabel('False Positive Rate (FPR)')\n",
    "plt.ylabel('True Positive Rate (TPR)')\n",
    "plt.title('Receiver Operating Characteristic (ROC) Curve')\n",
    "plt.legend(loc='lower right')\n",
    "\n",
    "plt.show()"
   ]
  },
  {
   "cell_type": "markdown",
   "id": "6a067e6a",
   "metadata": {},
   "source": [
    "- As you can observe, we have AUC score of **0.95**, which is very good with respect to the performance\n",
    "- It indicates excellent discriminative power and robustness across different thresholds. \n",
    "- The well-separated classes and strong predictive performance suggest a high-quality model. "
   ]
  },
  {
   "cell_type": "markdown",
   "id": "ae469237",
   "metadata": {},
   "source": [
    "## Confusion matrix"
   ]
  },
  {
   "cell_type": "code",
   "execution_count": 21,
   "id": "cc506774",
   "metadata": {},
   "outputs": [
    {
     "data": {
      "image/png": "[encoded data removed]",
      "text/plain": [
       "<Figure size 640x480 with 1 Axes>"
      ]
     },
     "metadata": {},
     "output_type": "display_data"
    }
   ],
   "source": [
    "from sklearn.metrics import confusion_matrix\n",
    "import seaborn as sns\n",
    "\n",
    "# Compute confusion matrix between the y_test and y_pred_test_best\n",
    "cm = confusion_matrix(y_test, y_pred_test_best)\n",
    "\n",
    "# Display the confusion matrix using a heatmap\n",
    "sns.heatmap(cm, annot=True, fmt = 'd', cmap = 'Blues', cbar=False,\n",
    "            xticklabels = ['Predicted Negative', 'Predicted Positive'],\n",
    "            yticklabels = ['Actual Negative', 'Actual Positive'])\n",
    "\n",
    "plt.title('Confusion Matrix')\n",
    "\n",
    "plt.show()"
   ]
  },
  {
   "cell_type": "markdown",
   "id": "8377528b",
   "metadata": {},
   "source": [
    "- There are high counts in the true positive and true negative cells\n",
    "- The model appears to perform well in correctly identifying instances of both classes, a"
   ]
  },
  {
   "cell_type": "markdown",
   "id": "7083f1e4",
   "metadata": {},
   "source": [
    "### Identify the right metric to evaluate the performance of the model\n",
    "**Recall** is the ratio of true positives to the total actual positives. It measures the ability of the model to capture all the truly successful outcomes. In the context of a marketing campaign, high recall indicates that the model is effectively identifying most of the successful cases.\n",
    "- This means that false negatives are minimized\n",
    "- This shall also be combined with accuracy to make sure that the model is the best"
   ]
  },
  {
   "cell_type": "markdown",
   "id": "7a0f977b",
   "metadata": {},
   "source": [
    "### Identify issues and concerns on the given data and suggest the best technique/s to overcome the issues. \n",
    "##### There has been a skewed nature in the data\n",
    "- Model can capture patterns well when there is distributed data, hence hyper parameter tuning is done for the available data\n",
    "- Future suggestion would be to consider having a better spread in customer contacts\n",
    "##### Accuracy can not be further increased\n",
    "- This is because of the underlying issues in model like class imbalance\n",
    "- This is tried to tackle with SMOTE but the accuracy is significantly reduced making it a bad choice"
   ]
  },
  {
   "cell_type": "code",
   "execution_count": 64,
   "id": "6c012e09",
   "metadata": {},
   "outputs": [
    {
     "name": "stdout",
     "output_type": "stream",
     "text": [
      "emp.var.rate : -1.8\n",
      "\n",
      "cons.price.idx : 92.893\n",
      "\n",
      "cons.conf.idx : -46.2\n",
      "\n",
      "euribor3m : 4.962\n",
      "\n",
      "nr.employed : 5099.1\n",
      "\n",
      "age : 31\n",
      "\n",
      "job : admin.\n",
      "\n",
      "marital : married\n",
      "\n",
      "education : university.degree\n",
      "\n",
      "default : no\n",
      "\n",
      "housing : yes\n",
      "\n",
      "loan : no\n",
      "\n",
      "State_Code : S2\n",
      "\n",
      "City_Code : C21\n",
      "\n",
      "Postal Code : 10011\n",
      "\n",
      "City_Name : New York City\n",
      "\n",
      "State_Name : California\n",
      "\n",
      "Region_Code : 4\n",
      "\n",
      "Region_Name : West\n",
      "\n",
      "contact : cellular\n",
      "\n",
      "month : may\n",
      "\n",
      "day_of_week : thu\n",
      "\n",
      "duration : 207\n",
      "\n",
      "campaign : 1\n",
      "\n",
      "pdays : 999\n",
      "\n",
      "previous : 0\n",
      "\n",
      "poutcome : nonexistent\n",
      "\n"
     ]
    }
   ],
   "source": [
    "df=pd.read_csv('imputed.csv')\n",
    "\n",
    "response_column = 'Customer_Response'\n",
    "col = ['emp.var.rate', 'cons.price.idx', 'cons.conf.idx',\n",
    "       'euribor3m', 'nr.employed', 'age', 'job', 'marital', 'education',\n",
    "       'default', 'housing', 'loan', 'State_Code', 'City_Code', 'Postal Code',\n",
    "       'City_Name', 'State_Name', 'Region_Code', 'Region_Name', 'contact',\n",
    "       'month', 'day_of_week', 'duration', 'campaign', 'pdays', 'previous',\n",
    "       'poutcome']\n",
    "# Loop through all columns in the DataFrame\n",
    "for column in col:\n",
    "    positive_responses = df[df[response_column] == 'yes']\n",
    "\n",
    "    # Count the occurrences of each unique value in the current column\n",
    "    value_counts_positive_responses = positive_responses[column].value_counts()\n",
    "\n",
    "    # Print the top feature for the current column\n",
    "    if not value_counts_positive_responses.empty:\n",
    "        top_feature = value_counts_positive_responses.idxmax()\n",
    "        top_feature_count = value_counts_positive_responses.max()\n",
    "        print(f\"{column} : {top_feature}\\n\")\n",
    "    else:\n",
    "        print(f\"No positive responses in column '{column}'\\n\")"
   ]
  },
  {
   "cell_type": "markdown",
   "id": "00529645",
   "metadata": {},
   "source": [
    "#### The above are the ideal target features to look for in a potential customer"
   ]
  }
 ],
 "metadata": {
  "kernelspec": {
   "display_name": "Python 3 (ipykernel)",
   "language": "python",
   "name": "python3"
  },
  "language_info": {
   "codemirror_mode": {
    "name": "ipython",
    "version": 3
   },
   "file_extension": ".py",
   "mimetype": "text/x-python",
   "name": "python",
   "nbconvert_exporter": "python",
   "pygments_lexer": "ipython3",
   "version": "3.12.2"
  }
 },
 "nbformat": 4,
 "nbformat_minor": 5
}
