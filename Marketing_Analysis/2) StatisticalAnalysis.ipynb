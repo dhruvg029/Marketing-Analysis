{
 "cells": [
  {
   "cell_type": "markdown",
   "id": "22c1b068",
   "metadata": {},
   "source": [
    "# Statistical Analysis"
   ]
  },
  {
   "cell_type": "markdown",
   "id": "7a8bac45",
   "metadata": {},
   "source": [
    "In this notebook we will be analysing our data using statistical measures.\n",
    "Tasks to be perfomed:\n",
    "- Descriptive statistics for both numerical and categorical data\n",
    "- Hypothesis testing "
   ]
  },
  {
   "cell_type": "code",
   "execution_count": 1,
   "id": "45fbfc53",
   "metadata": {},
   "outputs": [],
   "source": [
    "# importing libraries\n",
    "import pandas as pd\n",
    "import numpy as np\n",
    "from scipy.stats import chi2_contingency,chisquare\n",
    "from scipy.stats import shapiro\n",
    "from statsmodels.stats import weightstats as test\n",
    "import scipy.stats as stats\n",
    "\n",
    "import warnings\n",
    "warnings.filterwarnings('ignore')"
   ]
  },
  {
   "cell_type": "code",
   "execution_count": 2,
   "id": "667da91f",
   "metadata": {},
   "outputs": [],
   "source": [
    "# importing data\n",
    "data = pd.read_csv('dropped.csv')"
   ]
  },
  {
   "cell_type": "markdown",
   "id": "22efbb80",
   "metadata": {},
   "source": [
    "- We dropped 'unknown' values for the analysis purpose."
   ]
  },
  {
   "cell_type": "code",
   "execution_count": 3,
   "id": "c0925bb6",
   "metadata": {},
   "outputs": [
    {
     "data": {
      "text/plain": [
       "(27494, 29)"
      ]
     },
     "execution_count": 3,
     "metadata": {},
     "output_type": "execute_result"
    }
   ],
   "source": [
    "# checking the shape\n",
    "data.shape"
   ]
  },
  {
   "cell_type": "markdown",
   "id": "7725e56b",
   "metadata": {},
   "source": [
    "## `Descriptive Statistics`\n",
    "(Overview of the data)"
   ]
  },
  {
   "cell_type": "markdown",
   "id": "276d3e0e",
   "metadata": {},
   "source": [
    "### 1. For Numerical data"
   ]
  },
  {
   "cell_type": "code",
   "execution_count": 4,
   "id": "5fd3ae05",
   "metadata": {},
   "outputs": [
    {
     "data": {
      "text/html": [
       "<div>\n",
       "<style scoped>\n",
       "    .dataframe tbody tr th:only-of-type {\n",
       "        vertical-align: middle;\n",
       "    }\n",
       "\n",
       "    .dataframe tbody tr th {\n",
       "        vertical-align: top;\n",
       "    }\n",
       "\n",
       "    .dataframe thead th {\n",
       "        text-align: right;\n",
       "    }\n",
       "</style>\n",
       "<table border=\"1\" class=\"dataframe\">\n",
       "  <thead>\n",
       "    <tr style=\"text-align: right;\">\n",
       "      <th></th>\n",
       "      <th>Customer_id</th>\n",
       "      <th>emp.var.rate</th>\n",
       "      <th>cons.price.idx</th>\n",
       "      <th>cons.conf.idx</th>\n",
       "      <th>euribor3m</th>\n",
       "      <th>nr.employed</th>\n",
       "      <th>age</th>\n",
       "      <th>Postal Code</th>\n",
       "      <th>Region_Code</th>\n",
       "      <th>duration</th>\n",
       "      <th>campaign</th>\n",
       "      <th>pdays</th>\n",
       "      <th>previous</th>\n",
       "    </tr>\n",
       "  </thead>\n",
       "  <tbody>\n",
       "    <tr>\n",
       "      <th>count</th>\n",
       "      <td>27494.000000</td>\n",
       "      <td>27494.000000</td>\n",
       "      <td>27494.000000</td>\n",
       "      <td>27494.000000</td>\n",
       "      <td>27494.000000</td>\n",
       "      <td>27494.000000</td>\n",
       "      <td>27494.000000</td>\n",
       "      <td>27494.000000</td>\n",
       "      <td>27494.000000</td>\n",
       "      <td>27494.00000</td>\n",
       "      <td>27494.000000</td>\n",
       "      <td>27494.000000</td>\n",
       "      <td>27494.000000</td>\n",
       "    </tr>\n",
       "    <tr>\n",
       "      <th>mean</th>\n",
       "      <td>19739.850331</td>\n",
       "      <td>-0.068353</td>\n",
       "      <td>93.524360</td>\n",
       "      <td>-40.608318</td>\n",
       "      <td>3.462257</td>\n",
       "      <td>5160.913687</td>\n",
       "      <td>39.060413</td>\n",
       "      <td>55236.138066</td>\n",
       "      <td>2.576198</td>\n",
       "      <td>259.44457</td>\n",
       "      <td>2.525387</td>\n",
       "      <td>956.527097</td>\n",
       "      <td>0.194188</td>\n",
       "    </tr>\n",
       "    <tr>\n",
       "      <th>std</th>\n",
       "      <td>10651.990621</td>\n",
       "      <td>1.607475</td>\n",
       "      <td>0.584561</td>\n",
       "      <td>4.778214</td>\n",
       "      <td>1.776449</td>\n",
       "      <td>75.078548</td>\n",
       "      <td>10.343971</td>\n",
       "      <td>32057.092840</td>\n",
       "      <td>1.161994</td>\n",
       "      <td>261.45828</td>\n",
       "      <td>2.719997</td>\n",
       "      <td>200.930589</td>\n",
       "      <td>0.523907</td>\n",
       "    </tr>\n",
       "    <tr>\n",
       "      <th>min</th>\n",
       "      <td>1.000000</td>\n",
       "      <td>-3.400000</td>\n",
       "      <td>92.201000</td>\n",
       "      <td>-50.800000</td>\n",
       "      <td>0.634000</td>\n",
       "      <td>4963.600000</td>\n",
       "      <td>17.000000</td>\n",
       "      <td>1040.000000</td>\n",
       "      <td>1.000000</td>\n",
       "      <td>0.00000</td>\n",
       "      <td>1.000000</td>\n",
       "      <td>0.000000</td>\n",
       "      <td>0.000000</td>\n",
       "    </tr>\n",
       "    <tr>\n",
       "      <th>25%</th>\n",
       "      <td>10812.250000</td>\n",
       "      <td>-1.800000</td>\n",
       "      <td>93.075000</td>\n",
       "      <td>-42.700000</td>\n",
       "      <td>1.313000</td>\n",
       "      <td>5099.100000</td>\n",
       "      <td>31.000000</td>\n",
       "      <td>23223.000000</td>\n",
       "      <td>2.000000</td>\n",
       "      <td>103.00000</td>\n",
       "      <td>1.000000</td>\n",
       "      <td>999.000000</td>\n",
       "      <td>0.000000</td>\n",
       "    </tr>\n",
       "    <tr>\n",
       "      <th>50%</th>\n",
       "      <td>20503.000000</td>\n",
       "      <td>1.100000</td>\n",
       "      <td>93.444000</td>\n",
       "      <td>-41.800000</td>\n",
       "      <td>4.856000</td>\n",
       "      <td>5191.000000</td>\n",
       "      <td>37.000000</td>\n",
       "      <td>56301.000000</td>\n",
       "      <td>2.000000</td>\n",
       "      <td>181.00000</td>\n",
       "      <td>2.000000</td>\n",
       "      <td>999.000000</td>\n",
       "      <td>0.000000</td>\n",
       "    </tr>\n",
       "    <tr>\n",
       "      <th>75%</th>\n",
       "      <td>28987.250000</td>\n",
       "      <td>1.400000</td>\n",
       "      <td>93.994000</td>\n",
       "      <td>-36.400000</td>\n",
       "      <td>4.961000</td>\n",
       "      <td>5228.100000</td>\n",
       "      <td>45.750000</td>\n",
       "      <td>90008.000000</td>\n",
       "      <td>4.000000</td>\n",
       "      <td>321.00000</td>\n",
       "      <td>3.000000</td>\n",
       "      <td>999.000000</td>\n",
       "      <td>0.000000</td>\n",
       "    </tr>\n",
       "    <tr>\n",
       "      <th>max</th>\n",
       "      <td>37084.000000</td>\n",
       "      <td>1.400000</td>\n",
       "      <td>94.767000</td>\n",
       "      <td>-26.900000</td>\n",
       "      <td>5.045000</td>\n",
       "      <td>5228.100000</td>\n",
       "      <td>95.000000</td>\n",
       "      <td>99301.000000</td>\n",
       "      <td>4.000000</td>\n",
       "      <td>4918.00000</td>\n",
       "      <td>43.000000</td>\n",
       "      <td>999.000000</td>\n",
       "      <td>7.000000</td>\n",
       "    </tr>\n",
       "  </tbody>\n",
       "</table>\n",
       "</div>"
      ],
      "text/plain": [
       "        Customer_id  emp.var.rate  cons.price.idx  cons.conf.idx  \\\n",
       "count  27494.000000  27494.000000    27494.000000   27494.000000   \n",
       "mean   19739.850331     -0.068353       93.524360     -40.608318   \n",
       "std    10651.990621      1.607475        0.584561       4.778214   \n",
       "min        1.000000     -3.400000       92.201000     -50.800000   \n",
       "25%    10812.250000     -1.800000       93.075000     -42.700000   \n",
       "50%    20503.000000      1.100000       93.444000     -41.800000   \n",
       "75%    28987.250000      1.400000       93.994000     -36.400000   \n",
       "max    37084.000000      1.400000       94.767000     -26.900000   \n",
       "\n",
       "          euribor3m   nr.employed           age   Postal Code   Region_Code  \\\n",
       "count  27494.000000  27494.000000  27494.000000  27494.000000  27494.000000   \n",
       "mean       3.462257   5160.913687     39.060413  55236.138066      2.576198   \n",
       "std        1.776449     75.078548     10.343971  32057.092840      1.161994   \n",
       "min        0.634000   4963.600000     17.000000   1040.000000      1.000000   \n",
       "25%        1.313000   5099.100000     31.000000  23223.000000      2.000000   \n",
       "50%        4.856000   5191.000000     37.000000  56301.000000      2.000000   \n",
       "75%        4.961000   5228.100000     45.750000  90008.000000      4.000000   \n",
       "max        5.045000   5228.100000     95.000000  99301.000000      4.000000   \n",
       "\n",
       "          duration      campaign         pdays      previous  \n",
       "count  27494.00000  27494.000000  27494.000000  27494.000000  \n",
       "mean     259.44457      2.525387    956.527097      0.194188  \n",
       "std      261.45828      2.719997    200.930589      0.523907  \n",
       "min        0.00000      1.000000      0.000000      0.000000  \n",
       "25%      103.00000      1.000000    999.000000      0.000000  \n",
       "50%      181.00000      2.000000    999.000000      0.000000  \n",
       "75%      321.00000      3.000000    999.000000      0.000000  \n",
       "max     4918.00000     43.000000    999.000000      7.000000  "
      ]
     },
     "execution_count": 4,
     "metadata": {},
     "output_type": "execute_result"
    }
   ],
   "source": [
    "data.describe()"
   ]
  },
  {
   "cell_type": "markdown",
   "id": "585e61af",
   "metadata": {},
   "source": [
    "#### **Inference:**\n",
    "**Customer Demographics:**\n",
    "- The median age of customers is around 37, with a minimum age of 17 and a maximum age of 95. \n",
    "- The majority of customers fall within the age range of 31 to 45 years (25th to 75th percentile).\n",
    "- This suggests a diverse age range among customers.\n",
    "\n",
    "**Employment and Economic Indicators:**\n",
    "- The average employment variation rate is close to zero, with a minimum of -3.4 and a maximum of 1.4. This indicates a relatively stable employment environment during the observed period.\n",
    "- The average consumer price index is around 93.52, with a slight variation (standard deviation of 0.58). This suggests a moderate level of stability in consumer prices.\n",
    "- Consumer confidence index has a wide range, indicating fluctuations in consumer sentiment.\n",
    "\n",
    "**Current Campaign Insights:**\n",
    "- The average campaign duration is 259 seconds, with a maximum of 4918 seconds. This suggests variability in the duration of marketing campaigns, with some lasting significantly longer than others.\n",
    "- The average number of contacts during the campaign is 2 with a maximum of 43 and a minimum of 1. This provides insight into the typical outreach frequency during the campaign. \n",
    "\n",
    "**Previous Marketing Interactions:**\n",
    "- The average number of contacts performed before this campaign is 0, with a maximum of 7. This indicates that, on average, customers have not been contacted frequently before the current campaign.\n",
    "\n",
    "**Financial Market Indicators:**\n",
    "- The average three-month Euribor rate is 3.46, indicating the average interest rate at which a large panel of European banks borrow funds from one another. The three-month Euribor rate shows variability, suggesting changing economic conditions during the campaign periods. This can be a useful indicator for financial market conditions.\n",
    "\n",
    "**Postal Code and Region Information:**\n",
    "- The median postal code is 56301, with a min of 1040 and max of 99301. This suggests that customers are spread across different regions, with some regions having higher or lower postal codes."
   ]
  },
  {
   "cell_type": "markdown",
   "id": "197948d6",
   "metadata": {},
   "source": [
    "### 2. For Categorical data"
   ]
  },
  {
   "cell_type": "code",
   "execution_count": 5,
   "id": "822a600e",
   "metadata": {},
   "outputs": [
    {
     "data": {
      "text/html": [
       "<div>\n",
       "<style scoped>\n",
       "    .dataframe tbody tr th:only-of-type {\n",
       "        vertical-align: middle;\n",
       "    }\n",
       "\n",
       "    .dataframe tbody tr th {\n",
       "        vertical-align: top;\n",
       "    }\n",
       "\n",
       "    .dataframe thead th {\n",
       "        text-align: right;\n",
       "    }\n",
       "</style>\n",
       "<table border=\"1\" class=\"dataframe\">\n",
       "  <thead>\n",
       "    <tr style=\"text-align: right;\">\n",
       "      <th></th>\n",
       "      <th>job</th>\n",
       "      <th>marital</th>\n",
       "      <th>education</th>\n",
       "      <th>default</th>\n",
       "      <th>housing</th>\n",
       "      <th>loan</th>\n",
       "      <th>State_Code</th>\n",
       "      <th>City_Code</th>\n",
       "      <th>City_Name</th>\n",
       "      <th>State_Name</th>\n",
       "      <th>Region_Name</th>\n",
       "      <th>contact</th>\n",
       "      <th>month</th>\n",
       "      <th>day_of_week</th>\n",
       "      <th>poutcome</th>\n",
       "      <th>Customer_Response</th>\n",
       "    </tr>\n",
       "  </thead>\n",
       "  <tbody>\n",
       "    <tr>\n",
       "      <th>count</th>\n",
       "      <td>27494</td>\n",
       "      <td>27494</td>\n",
       "      <td>27494</td>\n",
       "      <td>27494</td>\n",
       "      <td>27494</td>\n",
       "      <td>27494</td>\n",
       "      <td>27494</td>\n",
       "      <td>27494</td>\n",
       "      <td>27494</td>\n",
       "      <td>27494</td>\n",
       "      <td>27494</td>\n",
       "      <td>27494</td>\n",
       "      <td>27494</td>\n",
       "      <td>27494</td>\n",
       "      <td>27494</td>\n",
       "      <td>27494</td>\n",
       "    </tr>\n",
       "    <tr>\n",
       "      <th>unique</th>\n",
       "      <td>11</td>\n",
       "      <td>3</td>\n",
       "      <td>7</td>\n",
       "      <td>2</td>\n",
       "      <td>2</td>\n",
       "      <td>2</td>\n",
       "      <td>49</td>\n",
       "      <td>531</td>\n",
       "      <td>531</td>\n",
       "      <td>49</td>\n",
       "      <td>4</td>\n",
       "      <td>2</td>\n",
       "      <td>10</td>\n",
       "      <td>5</td>\n",
       "      <td>3</td>\n",
       "      <td>2</td>\n",
       "    </tr>\n",
       "    <tr>\n",
       "      <th>top</th>\n",
       "      <td>admin.</td>\n",
       "      <td>married</td>\n",
       "      <td>university.degree</td>\n",
       "      <td>no</td>\n",
       "      <td>yes</td>\n",
       "      <td>no</td>\n",
       "      <td>S2</td>\n",
       "      <td>C21</td>\n",
       "      <td>New York City</td>\n",
       "      <td>California</td>\n",
       "      <td>West</td>\n",
       "      <td>cellular</td>\n",
       "      <td>may</td>\n",
       "      <td>thu</td>\n",
       "      <td>nonexistent</td>\n",
       "      <td>no</td>\n",
       "    </tr>\n",
       "    <tr>\n",
       "      <th>freq</th>\n",
       "      <td>7898</td>\n",
       "      <td>15801</td>\n",
       "      <td>9387</td>\n",
       "      <td>27492</td>\n",
       "      <td>14927</td>\n",
       "      <td>23199</td>\n",
       "      <td>5526</td>\n",
       "      <td>2535</td>\n",
       "      <td>2535</td>\n",
       "      <td>5526</td>\n",
       "      <td>8862</td>\n",
       "      <td>18433</td>\n",
       "      <td>8809</td>\n",
       "      <td>5781</td>\n",
       "      <td>23307</td>\n",
       "      <td>23995</td>\n",
       "    </tr>\n",
       "  </tbody>\n",
       "</table>\n",
       "</div>"
      ],
      "text/plain": [
       "           job  marital          education default housing   loan State_Code  \\\n",
       "count    27494    27494              27494   27494   27494  27494      27494   \n",
       "unique      11        3                  7       2       2      2         49   \n",
       "top     admin.  married  university.degree      no     yes     no         S2   \n",
       "freq      7898    15801               9387   27492   14927  23199       5526   \n",
       "\n",
       "       City_Code      City_Name  State_Name Region_Name   contact  month  \\\n",
       "count      27494          27494       27494       27494     27494  27494   \n",
       "unique       531            531          49           4         2     10   \n",
       "top          C21  New York City  California        West  cellular    may   \n",
       "freq        2535           2535        5526        8862     18433   8809   \n",
       "\n",
       "       day_of_week     poutcome Customer_Response  \n",
       "count        27494        27494             27494  \n",
       "unique           5            3                 2  \n",
       "top            thu  nonexistent                no  \n",
       "freq          5781        23307             23995  "
      ]
     },
     "execution_count": 5,
     "metadata": {},
     "output_type": "execute_result"
    }
   ],
   "source": [
    "data.describe(include=['object'])"
   ]
  },
  {
   "cell_type": "markdown",
   "id": "a625a68a",
   "metadata": {},
   "source": [
    "**Customer Demographics:**\n",
    "\n",
    "- The majority of customers in the dataset are married (15,801 occurrences) and majority of customers work in administrative roles (7,898 occurrences).\n",
    "- Targeted marketing campaigns  could be designed to appeal to the needs and preferences of married individuals and those in administrative professions.\n",
    "\n",
    "**Educational Background:**\n",
    "\n",
    "- A large number of customers have a university degree (9,387 occurrences).\n",
    "- The bank may consider offering educational resources.\n",
    "\n",
    "**Credit and Loan Status:**\n",
    "\n",
    "- The majority of customers do not have credit in default (27,492 occurrences), majority of customers have housing loans (14,927 occurrences), and do not have personal loans (23,199 occurrences).\n",
    "- The bank has a customer base with good credit history and a preference for housing loans. \n",
    "\n",
    "**Geographic Distribution:**\n",
    "\n",
    "- Customers are distributed across various states and cities.\n",
    "- Regional marketing strategies can be implemented to account for differences in customer needs and preferences in different locations.\n",
    "\n",
    "**Contact and Response Patterns:**\n",
    "\n",
    "- Cellular communication is the most common method (18,433 occurrences), and May is the most frequent month for contact (8,809 occurrences).\n",
    "\n",
    "**Outcome of Previous Campaigns:**\n",
    "\n",
    "- The majority of customers have a 'nonexistent' outcome in previous campaigns (23,307 occurrences).\n",
    "- Future campaigns may benefit from analyzing and learning from the patterns associated with successful past campaigns. Strategies can be adjusted to improve engagement with customers who have not been previously contacted.\n",
    "\n",
    "**Customer Response to Term Deposit:**\n",
    "\n",
    "- The target variable 'Customer_Response' indicates whether the client subscribed to a term deposit. The majority responded with 'no' (23,995 occurrences).\n",
    "- Understanding the factors influencing customer responses can guide future marketing efforts."
   ]
  },
  {
   "cell_type": "markdown",
   "id": "9e4d9563",
   "metadata": {},
   "source": [
    "Note: Other analysis such as skewness, kurtosis and distribution of the data are done in the univariate analysis of EDA (task4)"
   ]
  },
  {
   "cell_type": "markdown",
   "id": "3c559377",
   "metadata": {},
   "source": [
    "## `Hypothesis Testing`"
   ]
  },
  {
   "cell_type": "markdown",
   "id": "06545f81",
   "metadata": {},
   "source": [
    "### `Non parametric: Chi square test of association/independence`\n",
    "### To understand the relationship between marital status and Customer Response"
   ]
  },
  {
   "cell_type": "markdown",
   "id": "968c00dc",
   "metadata": {},
   "source": [
    "- Null: There is no relationship between marital status and Customer Responce. (independent)\n",
    "- Alternate: There is a relationship between marital status and Customer Responce. (dependent)"
   ]
  },
  {
   "cell_type": "code",
   "execution_count": 6,
   "id": "31a94070",
   "metadata": {
    "scrolled": true
   },
   "outputs": [
    {
     "data": {
      "text/html": [
       "<div>\n",
       "<style scoped>\n",
       "    .dataframe tbody tr th:only-of-type {\n",
       "        vertical-align: middle;\n",
       "    }\n",
       "\n",
       "    .dataframe tbody tr th {\n",
       "        vertical-align: top;\n",
       "    }\n",
       "\n",
       "    .dataframe thead th {\n",
       "        text-align: right;\n",
       "    }\n",
       "</style>\n",
       "<table border=\"1\" class=\"dataframe\">\n",
       "  <thead>\n",
       "    <tr style=\"text-align: right;\">\n",
       "      <th>Customer_Response</th>\n",
       "      <th>no</th>\n",
       "      <th>yes</th>\n",
       "    </tr>\n",
       "    <tr>\n",
       "      <th>marital</th>\n",
       "      <th></th>\n",
       "      <th></th>\n",
       "    </tr>\n",
       "  </thead>\n",
       "  <tbody>\n",
       "    <tr>\n",
       "      <th>divorced</th>\n",
       "      <td>2827</td>\n",
       "      <td>370</td>\n",
       "    </tr>\n",
       "    <tr>\n",
       "      <th>married</th>\n",
       "      <td>13944</td>\n",
       "      <td>1857</td>\n",
       "    </tr>\n",
       "    <tr>\n",
       "      <th>single</th>\n",
       "      <td>7224</td>\n",
       "      <td>1272</td>\n",
       "    </tr>\n",
       "  </tbody>\n",
       "</table>\n",
       "</div>"
      ],
      "text/plain": [
       "Customer_Response     no   yes\n",
       "marital                       \n",
       "divorced            2827   370\n",
       "married            13944  1857\n",
       "single              7224  1272"
      ]
     },
     "execution_count": 6,
     "metadata": {},
     "output_type": "execute_result"
    }
   ],
   "source": [
    "#Contingency table : \n",
    "obs=pd.crosstab(data['marital'],data['Customer_Response'])\n",
    "obs"
   ]
  },
  {
   "cell_type": "code",
   "execution_count": 7,
   "id": "1ee53589",
   "metadata": {
    "scrolled": true
   },
   "outputs": [
    {
     "name": "stdout",
     "output_type": "stream",
     "text": [
      "Chi-square statistic 55.88770 P value 0.000000 Degrees of freedom 2\n"
     ]
    }
   ],
   "source": [
    "chi_sq_Stat, p_value, deg_freedom, exp_freq=chi2_contingency(obs)\n",
    "print('Chi-square statistic %3.5f P value %1.6f Degrees of freedom %d'\n",
    "       %(chi_sq_Stat, p_value,deg_freedom))"
   ]
  },
  {
   "cell_type": "markdown",
   "id": "dd2f2b3a",
   "metadata": {},
   "source": [
    "- p value is 0.0000\n",
    "- p-value < 0.05 (alpha)\n",
    "- Reject H0\n",
    "\n",
    "- **we don't have enough evidence to say that marital status and Customer response are independent of each other.**\n",
    "- However we need to check whether marital status is influencing the Customer response."
   ]
  },
  {
   "cell_type": "markdown",
   "id": "d5bfa570",
   "metadata": {},
   "source": [
    "### To understand the relationship between contact medium and Customer Response"
   ]
  },
  {
   "cell_type": "markdown",
   "id": "f1bacc44",
   "metadata": {},
   "source": [
    "- Null: There is no relationship between contact medium and Customer Responce. (independent)\n",
    "- Alternate: There is a relationship between contact medium and Customer Responce. (dependent)"
   ]
  },
  {
   "cell_type": "code",
   "execution_count": 8,
   "id": "80cde946",
   "metadata": {},
   "outputs": [
    {
     "data": {
      "text/html": [
       "<div>\n",
       "<style scoped>\n",
       "    .dataframe tbody tr th:only-of-type {\n",
       "        vertical-align: middle;\n",
       "    }\n",
       "\n",
       "    .dataframe tbody tr th {\n",
       "        vertical-align: top;\n",
       "    }\n",
       "\n",
       "    .dataframe thead th {\n",
       "        text-align: right;\n",
       "    }\n",
       "</style>\n",
       "<table border=\"1\" class=\"dataframe\">\n",
       "  <thead>\n",
       "    <tr style=\"text-align: right;\">\n",
       "      <th>Customer_Response</th>\n",
       "      <th>no</th>\n",
       "      <th>yes</th>\n",
       "    </tr>\n",
       "    <tr>\n",
       "      <th>contact</th>\n",
       "      <th></th>\n",
       "      <th></th>\n",
       "    </tr>\n",
       "  </thead>\n",
       "  <tbody>\n",
       "    <tr>\n",
       "      <th>cellular</th>\n",
       "      <td>15461</td>\n",
       "      <td>2972</td>\n",
       "    </tr>\n",
       "    <tr>\n",
       "      <th>telephone</th>\n",
       "      <td>8534</td>\n",
       "      <td>527</td>\n",
       "    </tr>\n",
       "  </tbody>\n",
       "</table>\n",
       "</div>"
      ],
      "text/plain": [
       "Customer_Response     no   yes\n",
       "contact                       \n",
       "cellular           15461  2972\n",
       "telephone           8534   527"
      ]
     },
     "execution_count": 8,
     "metadata": {},
     "output_type": "execute_result"
    }
   ],
   "source": [
    "#Contingency table : \n",
    "obs=pd.crosstab(data['contact'],data['Customer_Response'])\n",
    "obs"
   ]
  },
  {
   "cell_type": "code",
   "execution_count": 9,
   "id": "2a96c7fa",
   "metadata": {},
   "outputs": [
    {
     "name": "stdout",
     "output_type": "stream",
     "text": [
      "Chi-square statistic 580.13136 P value 0.000000 Degrees of freedom 1\n"
     ]
    }
   ],
   "source": [
    "chi_sq_Stat, p_value, deg_freedom, exp_freq=chi2_contingency(obs)\n",
    "print('Chi-square statistic %3.5f P value %1.6f Degrees of freedom %d'\n",
    "       %(chi_sq_Stat, p_value,deg_freedom))"
   ]
  },
  {
   "cell_type": "markdown",
   "id": "06f51298",
   "metadata": {},
   "source": [
    "- p value is 0.0000\n",
    "- p-value < 0.05 (alpha)\n",
    "- Reject H0\n",
    "- **we don't have enough evidence to say that contact medium and Customer response are independent of each other.**\n",
    "- However we need to check whether contact medium is influencing the Customer response."
   ]
  },
  {
   "cell_type": "markdown",
   "id": "0ffa0a8b",
   "metadata": {},
   "source": [
    "### To understand the relationship between education and Customer Response"
   ]
  },
  {
   "cell_type": "markdown",
   "id": "ee11aa6a",
   "metadata": {},
   "source": [
    "- Null: There is no relationship between education and Customer Responce. (independent)\n",
    "- Alternate: There is a relationship between education and Customer Responce. (dependent)"
   ]
  },
  {
   "cell_type": "code",
   "execution_count": 10,
   "id": "ecd2322d",
   "metadata": {},
   "outputs": [
    {
     "data": {
      "text/html": [
       "<div>\n",
       "<style scoped>\n",
       "    .dataframe tbody tr th:only-of-type {\n",
       "        vertical-align: middle;\n",
       "    }\n",
       "\n",
       "    .dataframe tbody tr th {\n",
       "        vertical-align: top;\n",
       "    }\n",
       "\n",
       "    .dataframe thead th {\n",
       "        text-align: right;\n",
       "    }\n",
       "</style>\n",
       "<table border=\"1\" class=\"dataframe\">\n",
       "  <thead>\n",
       "    <tr style=\"text-align: right;\">\n",
       "      <th>Customer_Response</th>\n",
       "      <th>no</th>\n",
       "      <th>yes</th>\n",
       "    </tr>\n",
       "    <tr>\n",
       "      <th>education</th>\n",
       "      <th></th>\n",
       "      <th></th>\n",
       "    </tr>\n",
       "  </thead>\n",
       "  <tbody>\n",
       "    <tr>\n",
       "      <th>basic.4y</th>\n",
       "      <td>1865</td>\n",
       "      <td>296</td>\n",
       "    </tr>\n",
       "    <tr>\n",
       "      <th>basic.6y</th>\n",
       "      <td>1130</td>\n",
       "      <td>125</td>\n",
       "    </tr>\n",
       "    <tr>\n",
       "      <th>basic.9y</th>\n",
       "      <td>3505</td>\n",
       "      <td>338</td>\n",
       "    </tr>\n",
       "    <tr>\n",
       "      <th>high.school</th>\n",
       "      <td>6079</td>\n",
       "      <td>859</td>\n",
       "    </tr>\n",
       "    <tr>\n",
       "      <th>illiterate</th>\n",
       "      <td>8</td>\n",
       "      <td>1</td>\n",
       "    </tr>\n",
       "    <tr>\n",
       "      <th>professional.course</th>\n",
       "      <td>3413</td>\n",
       "      <td>488</td>\n",
       "    </tr>\n",
       "    <tr>\n",
       "      <th>university.degree</th>\n",
       "      <td>7995</td>\n",
       "      <td>1392</td>\n",
       "    </tr>\n",
       "  </tbody>\n",
       "</table>\n",
       "</div>"
      ],
      "text/plain": [
       "Customer_Response      no   yes\n",
       "education                      \n",
       "basic.4y             1865   296\n",
       "basic.6y             1130   125\n",
       "basic.9y             3505   338\n",
       "high.school          6079   859\n",
       "illiterate              8     1\n",
       "professional.course  3413   488\n",
       "university.degree    7995  1392"
      ]
     },
     "execution_count": 10,
     "metadata": {},
     "output_type": "execute_result"
    }
   ],
   "source": [
    "pd.crosstab(data['education'], data['Customer_Response'])"
   ]
  },
  {
   "cell_type": "code",
   "execution_count": 11,
   "id": "48a1ca3f",
   "metadata": {},
   "outputs": [
    {
     "name": "stdout",
     "output_type": "stream",
     "text": [
      "Chi-square Statistic: 102.24856893835508\n",
      "P-value: 8.515602840152896e-20\n",
      "Degrees of Freedom: 6\n",
      "Reject the null hypothesis.\n"
     ]
    }
   ],
   "source": [
    "# contingency table\n",
    "obs = pd.crosstab(data['education'], data['Customer_Response'])\n",
    "\n",
    "# Chi-square test\n",
    "chi2_stat, p_value, dof, expected = chi2_contingency(obs)\n",
    "\n",
    "# results\n",
    "print(\"Chi-square Statistic:\", chi2_stat)\n",
    "print(\"P-value:\", p_value)\n",
    "print(\"Degrees of Freedom:\", dof)\n",
    "\n",
    "# Interpretation\n",
    "alpha = 0.05\n",
    "if p_value < alpha:\n",
    "    print(\"Reject the null hypothesis.\")\n",
    "else:\n",
    "    print(\"Fail to reject the null hypothesis.\")\n"
   ]
  },
  {
   "cell_type": "markdown",
   "id": "985ba2b2",
   "metadata": {},
   "source": [
    "- **we don't have enough evidence to say that education and Customer response are independent of each other.**\n",
    "- However we need to check whether education is influencing the Customer response."
   ]
  },
  {
   "cell_type": "markdown",
   "id": "14923de5",
   "metadata": {},
   "source": [
    "### To understand the relationship between housing loan and Campaign Response"
   ]
  },
  {
   "cell_type": "markdown",
   "id": "350f4bc4",
   "metadata": {},
   "source": [
    "- Null: There is no relationship between having a housing loan and Customer Responce. (independent)\n",
    "- Alternate: There is a relationship between having a housing loan and Customer Responce. (dependent)"
   ]
  },
  {
   "cell_type": "code",
   "execution_count": 12,
   "id": "3c511a40",
   "metadata": {},
   "outputs": [
    {
     "data": {
      "text/html": [
       "<div>\n",
       "<style scoped>\n",
       "    .dataframe tbody tr th:only-of-type {\n",
       "        vertical-align: middle;\n",
       "    }\n",
       "\n",
       "    .dataframe tbody tr th {\n",
       "        vertical-align: top;\n",
       "    }\n",
       "\n",
       "    .dataframe thead th {\n",
       "        text-align: right;\n",
       "    }\n",
       "</style>\n",
       "<table border=\"1\" class=\"dataframe\">\n",
       "  <thead>\n",
       "    <tr style=\"text-align: right;\">\n",
       "      <th>Customer_Response</th>\n",
       "      <th>no</th>\n",
       "      <th>yes</th>\n",
       "    </tr>\n",
       "    <tr>\n",
       "      <th>housing</th>\n",
       "      <th></th>\n",
       "      <th></th>\n",
       "    </tr>\n",
       "  </thead>\n",
       "  <tbody>\n",
       "    <tr>\n",
       "      <th>no</th>\n",
       "      <td>11018</td>\n",
       "      <td>1549</td>\n",
       "    </tr>\n",
       "    <tr>\n",
       "      <th>yes</th>\n",
       "      <td>12977</td>\n",
       "      <td>1950</td>\n",
       "    </tr>\n",
       "  </tbody>\n",
       "</table>\n",
       "</div>"
      ],
      "text/plain": [
       "Customer_Response     no   yes\n",
       "housing                       \n",
       "no                 11018  1549\n",
       "yes                12977  1950"
      ]
     },
     "execution_count": 12,
     "metadata": {},
     "output_type": "execute_result"
    }
   ],
   "source": [
    "pd.crosstab(data['housing'], data['Customer_Response'])"
   ]
  },
  {
   "cell_type": "code",
   "execution_count": 13,
   "id": "a2a57018",
   "metadata": {},
   "outputs": [
    {
     "name": "stdout",
     "output_type": "stream",
     "text": [
      "Chi-square Statistic: 3.276404681254342\n",
      "P-value: 0.0702827363428754\n",
      "Degrees of Freedom: 1\n",
      "Fail to reject the null hypothesis.\n"
     ]
    }
   ],
   "source": [
    "# contingency table\n",
    "obs = pd.crosstab(data['housing'], data['Customer_Response'])\n",
    "\n",
    "# Chi-square test\n",
    "chi2_stat, p_value, dof, expected = chi2_contingency(obs)\n",
    "\n",
    "# results\n",
    "print(\"Chi-square Statistic:\", chi2_stat)\n",
    "print(\"P-value:\", p_value)\n",
    "print(\"Degrees of Freedom:\", dof)\n",
    "\n",
    "# Interpretation\n",
    "alpha = 0.05\n",
    "if p_value < alpha:\n",
    "    \n",
    "    print(\"Reject the null hypothesis.\")\n",
    "else:\n",
    "    print(\"Fail to reject the null hypothesis.\")\n"
   ]
  },
  {
   "cell_type": "markdown",
   "id": "aa074318",
   "metadata": {},
   "source": [
    "- **we don't have enough evidence to say that housing loan and Customer response are dependent on each other.**"
   ]
  },
  {
   "cell_type": "markdown",
   "id": "dafdb50f",
   "metadata": {},
   "source": [
    "### To understand the relationship between Profession and Campaign Response"
   ]
  },
  {
   "cell_type": "markdown",
   "id": "0a090e87",
   "metadata": {},
   "source": [
    "- Null: There is no relationship between having a profession and Customer Responce. (independent)\n",
    "- Alternate: There is a relationship between having a profession and Customer Responce. (dependent)"
   ]
  },
  {
   "cell_type": "code",
   "execution_count": 14,
   "id": "a692a6f4",
   "metadata": {},
   "outputs": [
    {
     "data": {
      "text/html": [
       "<div>\n",
       "<style scoped>\n",
       "    .dataframe tbody tr th:only-of-type {\n",
       "        vertical-align: middle;\n",
       "    }\n",
       "\n",
       "    .dataframe tbody tr th {\n",
       "        vertical-align: top;\n",
       "    }\n",
       "\n",
       "    .dataframe thead th {\n",
       "        text-align: right;\n",
       "    }\n",
       "</style>\n",
       "<table border=\"1\" class=\"dataframe\">\n",
       "  <thead>\n",
       "    <tr style=\"text-align: right;\">\n",
       "      <th>Customer_Response</th>\n",
       "      <th>no</th>\n",
       "      <th>yes</th>\n",
       "    </tr>\n",
       "    <tr>\n",
       "      <th>job</th>\n",
       "      <th></th>\n",
       "      <th></th>\n",
       "    </tr>\n",
       "  </thead>\n",
       "  <tbody>\n",
       "    <tr>\n",
       "      <th>admin.</th>\n",
       "      <td>6777</td>\n",
       "      <td>1121</td>\n",
       "    </tr>\n",
       "    <tr>\n",
       "      <th>blue-collar</th>\n",
       "      <td>4708</td>\n",
       "      <td>407</td>\n",
       "    </tr>\n",
       "    <tr>\n",
       "      <th>entrepreneur</th>\n",
       "      <td>884</td>\n",
       "      <td>93</td>\n",
       "    </tr>\n",
       "    <tr>\n",
       "      <th>housemaid</th>\n",
       "      <td>541</td>\n",
       "      <td>75</td>\n",
       "    </tr>\n",
       "    <tr>\n",
       "      <th>management</th>\n",
       "      <td>1834</td>\n",
       "      <td>254</td>\n",
       "    </tr>\n",
       "    <tr>\n",
       "      <th>retired</th>\n",
       "      <td>766</td>\n",
       "      <td>323</td>\n",
       "    </tr>\n",
       "    <tr>\n",
       "      <th>self-employed</th>\n",
       "      <td>866</td>\n",
       "      <td>115</td>\n",
       "    </tr>\n",
       "    <tr>\n",
       "      <th>services</th>\n",
       "      <td>2316</td>\n",
       "      <td>238</td>\n",
       "    </tr>\n",
       "    <tr>\n",
       "      <th>student</th>\n",
       "      <td>360</td>\n",
       "      <td>177</td>\n",
       "    </tr>\n",
       "    <tr>\n",
       "      <th>technician</th>\n",
       "      <td>4389</td>\n",
       "      <td>578</td>\n",
       "    </tr>\n",
       "    <tr>\n",
       "      <th>unemployed</th>\n",
       "      <td>554</td>\n",
       "      <td>118</td>\n",
       "    </tr>\n",
       "  </tbody>\n",
       "</table>\n",
       "</div>"
      ],
      "text/plain": [
       "Customer_Response    no   yes\n",
       "job                          \n",
       "admin.             6777  1121\n",
       "blue-collar        4708   407\n",
       "entrepreneur        884    93\n",
       "housemaid           541    75\n",
       "management         1834   254\n",
       "retired             766   323\n",
       "self-employed       866   115\n",
       "services           2316   238\n",
       "student             360   177\n",
       "technician         4389   578\n",
       "unemployed          554   118"
      ]
     },
     "execution_count": 14,
     "metadata": {},
     "output_type": "execute_result"
    }
   ],
   "source": [
    "pd.crosstab(data['job'], data['Customer_Response'])"
   ]
  },
  {
   "cell_type": "code",
   "execution_count": 15,
   "id": "d4855eee",
   "metadata": {
    "scrolled": true
   },
   "outputs": [
    {
     "name": "stdout",
     "output_type": "stream",
     "text": [
      "Chi-square Statistic: 656.0224619876792\n",
      "P-value: 1.7186529866407562e-134\n",
      "Degrees of Freedom: 10\n",
      "Reject the null hypothesis.\n"
     ]
    }
   ],
   "source": [
    "# contingency table\n",
    "obs = pd.crosstab(data['job'], data['Customer_Response'])\n",
    "\n",
    "# Chi-square test\n",
    "chi2_stat, p_value, dof, expected = chi2_contingency(obs)\n",
    "\n",
    "# results\n",
    "print(\"Chi-square Statistic:\", chi2_stat)\n",
    "print(\"P-value:\", p_value)\n",
    "print(\"Degrees of Freedom:\", dof)\n",
    "\n",
    "# Interpretation\n",
    "alpha = 0.05\n",
    "if p_value < alpha:\n",
    "    print(\"Reject the null hypothesis.\")\n",
    "else:\n",
    "    print(\"Fail to reject the null hypothesis.\")\n"
   ]
  },
  {
   "cell_type": "markdown",
   "id": "6296ba0f",
   "metadata": {},
   "source": [
    "- **we don't have enough evidence to say that profession and Customer response are independent of each other.**\n",
    "- However we need to check whether profession is influencing the Customer response."
   ]
  },
  {
   "cell_type": "markdown",
   "id": "de32d6f1",
   "metadata": {},
   "source": [
    "### To understand the relationship between defaulters and Customer Response"
   ]
  },
  {
   "cell_type": "markdown",
   "id": "5997fb67",
   "metadata": {},
   "source": [
    "- Null: There is no relationship between defaulters and Customer Responce. (independent)\n",
    "- Alternate: There is a relationship between defaulters and Customer Responce. (dependent)"
   ]
  },
  {
   "cell_type": "code",
   "execution_count": 16,
   "id": "a51a142f",
   "metadata": {},
   "outputs": [
    {
     "data": {
      "text/html": [
       "<div>\n",
       "<style scoped>\n",
       "    .dataframe tbody tr th:only-of-type {\n",
       "        vertical-align: middle;\n",
       "    }\n",
       "\n",
       "    .dataframe tbody tr th {\n",
       "        vertical-align: top;\n",
       "    }\n",
       "\n",
       "    .dataframe thead th {\n",
       "        text-align: right;\n",
       "    }\n",
       "</style>\n",
       "<table border=\"1\" class=\"dataframe\">\n",
       "  <thead>\n",
       "    <tr style=\"text-align: right;\">\n",
       "      <th>Customer_Response</th>\n",
       "      <th>no</th>\n",
       "      <th>yes</th>\n",
       "    </tr>\n",
       "    <tr>\n",
       "      <th>default</th>\n",
       "      <th></th>\n",
       "      <th></th>\n",
       "    </tr>\n",
       "  </thead>\n",
       "  <tbody>\n",
       "    <tr>\n",
       "      <th>no</th>\n",
       "      <td>23993</td>\n",
       "      <td>3499</td>\n",
       "    </tr>\n",
       "    <tr>\n",
       "      <th>yes</th>\n",
       "      <td>2</td>\n",
       "      <td>0</td>\n",
       "    </tr>\n",
       "  </tbody>\n",
       "</table>\n",
       "</div>"
      ],
      "text/plain": [
       "Customer_Response     no   yes\n",
       "default                       \n",
       "no                 23993  3499\n",
       "yes                    2     0"
      ]
     },
     "execution_count": 16,
     "metadata": {},
     "output_type": "execute_result"
    }
   ],
   "source": [
    "pd.crosstab(data['default'], data['Customer_Response'])"
   ]
  },
  {
   "cell_type": "code",
   "execution_count": 17,
   "id": "95b27a80",
   "metadata": {},
   "outputs": [
    {
     "name": "stdout",
     "output_type": "stream",
     "text": [
      "Chi-square Statistic: 0.0\n",
      "P-value: 1.0\n",
      "Degrees of Freedom: 1\n",
      "Fail to reject the null hypothesis.\n"
     ]
    }
   ],
   "source": [
    "# contingency table\n",
    "obs = pd.crosstab(data['default'], data['Customer_Response'])\n",
    "\n",
    "# Chi-square test\n",
    "chi2_stat, p_value, dof, expected = chi2_contingency(obs)\n",
    "\n",
    "# results\n",
    "print(\"Chi-square Statistic:\", chi2_stat)\n",
    "print(\"P-value:\", p_value)\n",
    "print(\"Degrees of Freedom:\", dof)\n",
    "\n",
    "# Interpretation\n",
    "alpha = 0.05\n",
    "if p_value < alpha:\n",
    "    print(\"Reject the null hypothesis.\")\n",
    "else:\n",
    "    print(\"Fail to reject the null hypothesis.\")\n"
   ]
  },
  {
   "cell_type": "markdown",
   "id": "d1a937e6",
   "metadata": {},
   "source": [
    "- **we don't have enough evidence to say that defaulters and Customer response are dependent on each other.**"
   ]
  },
  {
   "cell_type": "markdown",
   "id": "7c021eac",
   "metadata": {},
   "source": [
    "### To understand the relationship between personal loan and Customer Response"
   ]
  },
  {
   "cell_type": "markdown",
   "id": "de60a95a",
   "metadata": {},
   "source": [
    "- Null: There is no relationship between having a personal loan and Customer Responce. (independent)\n",
    "- Alternate: There is a relationship between having a personal loan and Customer Responce. (dependent)"
   ]
  },
  {
   "cell_type": "code",
   "execution_count": 18,
   "id": "a1846673",
   "metadata": {},
   "outputs": [
    {
     "data": {
      "text/html": [
       "<div>\n",
       "<style scoped>\n",
       "    .dataframe tbody tr th:only-of-type {\n",
       "        vertical-align: middle;\n",
       "    }\n",
       "\n",
       "    .dataframe tbody tr th {\n",
       "        vertical-align: top;\n",
       "    }\n",
       "\n",
       "    .dataframe thead th {\n",
       "        text-align: right;\n",
       "    }\n",
       "</style>\n",
       "<table border=\"1\" class=\"dataframe\">\n",
       "  <thead>\n",
       "    <tr style=\"text-align: right;\">\n",
       "      <th>Customer_Response</th>\n",
       "      <th>no</th>\n",
       "      <th>yes</th>\n",
       "    </tr>\n",
       "    <tr>\n",
       "      <th>loan</th>\n",
       "      <th></th>\n",
       "      <th></th>\n",
       "    </tr>\n",
       "  </thead>\n",
       "  <tbody>\n",
       "    <tr>\n",
       "      <th>no</th>\n",
       "      <td>20226</td>\n",
       "      <td>2973</td>\n",
       "    </tr>\n",
       "    <tr>\n",
       "      <th>yes</th>\n",
       "      <td>3769</td>\n",
       "      <td>526</td>\n",
       "    </tr>\n",
       "  </tbody>\n",
       "</table>\n",
       "</div>"
      ],
      "text/plain": [
       "Customer_Response     no   yes\n",
       "loan                          \n",
       "no                 20226  2973\n",
       "yes                 3769   526"
      ]
     },
     "execution_count": 18,
     "metadata": {},
     "output_type": "execute_result"
    }
   ],
   "source": [
    "pd.crosstab(data['loan'], data['Customer_Response'])"
   ]
  },
  {
   "cell_type": "code",
   "execution_count": 19,
   "id": "4c208718",
   "metadata": {},
   "outputs": [
    {
     "name": "stdout",
     "output_type": "stream",
     "text": [
      "Chi-square Statistic: 1.0036552597662287\n",
      "P-value: 0.31642765553716\n",
      "Degrees of Freedom: 1\n",
      "Fail to reject the null hypothesis.\n"
     ]
    }
   ],
   "source": [
    "# contingency table\n",
    "obs = pd.crosstab(data['loan'], data['Customer_Response'])\n",
    "\n",
    "# Chi-square test\n",
    "chi2_stat, p_value, dof, expected = chi2_contingency(obs)\n",
    "\n",
    "# results\n",
    "print(\"Chi-square Statistic:\", chi2_stat)\n",
    "print(\"P-value:\", p_value)\n",
    "print(\"Degrees of Freedom:\", dof)\n",
    "\n",
    "# Interpretation\n",
    "alpha = 0.05\n",
    "if p_value < alpha:\n",
    "    print(\"Reject the null hypothesis.\")\n",
    "else:\n",
    "    print(\"Fail to reject the null hypothesis.\")\n"
   ]
  },
  {
   "cell_type": "markdown",
   "id": "e40ceb7a",
   "metadata": {},
   "source": [
    "- **we don't have enough evidence to say that personal loan and Customer response are dependent on each other.**"
   ]
  },
  {
   "cell_type": "markdown",
   "id": "44387997",
   "metadata": {},
   "source": [
    "### To understand the relationship between Region and Customer Response"
   ]
  },
  {
   "cell_type": "markdown",
   "id": "177e9066",
   "metadata": {},
   "source": [
    "- Null: There is no relationship between Region and Customer Responce. (independent)\n",
    "- Alternate: There is a relationship between Region and Customer Responce. (dependent)"
   ]
  },
  {
   "cell_type": "code",
   "execution_count": 20,
   "id": "b40df4a2",
   "metadata": {},
   "outputs": [
    {
     "data": {
      "text/html": [
       "<div>\n",
       "<style scoped>\n",
       "    .dataframe tbody tr th:only-of-type {\n",
       "        vertical-align: middle;\n",
       "    }\n",
       "\n",
       "    .dataframe tbody tr th {\n",
       "        vertical-align: top;\n",
       "    }\n",
       "\n",
       "    .dataframe thead th {\n",
       "        text-align: right;\n",
       "    }\n",
       "</style>\n",
       "<table border=\"1\" class=\"dataframe\">\n",
       "  <thead>\n",
       "    <tr style=\"text-align: right;\">\n",
       "      <th>Customer_Response</th>\n",
       "      <th>no</th>\n",
       "      <th>yes</th>\n",
       "    </tr>\n",
       "    <tr>\n",
       "      <th>Region_Name</th>\n",
       "      <th></th>\n",
       "      <th></th>\n",
       "    </tr>\n",
       "  </thead>\n",
       "  <tbody>\n",
       "    <tr>\n",
       "      <th>Central</th>\n",
       "      <td>5568</td>\n",
       "      <td>774</td>\n",
       "    </tr>\n",
       "    <tr>\n",
       "      <th>East</th>\n",
       "      <td>6856</td>\n",
       "      <td>974</td>\n",
       "    </tr>\n",
       "    <tr>\n",
       "      <th>South</th>\n",
       "      <td>3870</td>\n",
       "      <td>590</td>\n",
       "    </tr>\n",
       "    <tr>\n",
       "      <th>West</th>\n",
       "      <td>7701</td>\n",
       "      <td>1161</td>\n",
       "    </tr>\n",
       "  </tbody>\n",
       "</table>\n",
       "</div>"
      ],
      "text/plain": [
       "Customer_Response    no   yes\n",
       "Region_Name                  \n",
       "Central            5568   774\n",
       "East               6856   974\n",
       "South              3870   590\n",
       "West               7701  1161"
      ]
     },
     "execution_count": 20,
     "metadata": {},
     "output_type": "execute_result"
    }
   ],
   "source": [
    "pd.crosstab(data['Region_Name'], data['Customer_Response'])"
   ]
  },
  {
   "cell_type": "code",
   "execution_count": 21,
   "id": "d3db3cac",
   "metadata": {},
   "outputs": [
    {
     "name": "stdout",
     "output_type": "stream",
     "text": [
      "Chi-square Statistic: 4.269182884267758\n",
      "P-value: 0.2338259984833805\n",
      "Degrees of Freedom: 3\n",
      "Fail to reject the null hypothesis.\n"
     ]
    }
   ],
   "source": [
    "# contingency table\n",
    "obs = pd.crosstab(data['Region_Name'], data['Customer_Response'])\n",
    "\n",
    "# Chi-square test\n",
    "chi2_stat, p_value, dof, expected = chi2_contingency(obs)\n",
    "\n",
    "# results\n",
    "print(\"Chi-square Statistic:\", chi2_stat)\n",
    "print(\"P-value:\", p_value)\n",
    "print(\"Degrees of Freedom:\", dof)\n",
    "\n",
    "# Interpretation\n",
    "alpha = 0.05\n",
    "if p_value < alpha:\n",
    "    print(\"Reject the null hypothesis.\")\n",
    "else:\n",
    "    print(\"Fail to reject the null hypothesis.\")\n"
   ]
  },
  {
   "cell_type": "markdown",
   "id": "d08f6910",
   "metadata": {},
   "source": [
    "- **we don't have enough evidence to say that region and Customer response are dependent on each other.**"
   ]
  },
  {
   "cell_type": "markdown",
   "id": "3a15ee51",
   "metadata": {},
   "source": [
    "### To understand the relationship between result of previous campaign and current campaign"
   ]
  },
  {
   "cell_type": "markdown",
   "id": "7ff1f58f",
   "metadata": {},
   "source": [
    "- Null: There is no relationship between previous campaign outcome and current customer Responce. (independent)\n",
    "- Alternate: There is a relationship between previous campaign outcome and current customer Responce. (dependent)"
   ]
  },
  {
   "cell_type": "code",
   "execution_count": 22,
   "id": "f82a8ad2",
   "metadata": {},
   "outputs": [
    {
     "name": "stdout",
     "output_type": "stream",
     "text": [
      "Chi-square Statistic: 2895.580038101799\n",
      "P-value: 0.0\n",
      "Degrees of Freedom: 2\n",
      "Reject the null hypothesis.\n"
     ]
    }
   ],
   "source": [
    "# contingency table\n",
    "obs = pd.crosstab(data['poutcome'], data['Customer_Response'])\n",
    "\n",
    "# Chi-square test\n",
    "chi2_stat, p_value, dof, expected = chi2_contingency(obs)\n",
    "\n",
    "# results\n",
    "print(\"Chi-square Statistic:\", chi2_stat)\n",
    "print(\"P-value:\", p_value)\n",
    "print(\"Degrees of Freedom:\", dof)\n",
    "\n",
    "# Interpretation\n",
    "alpha = 0.05\n",
    "if p_value < alpha:\n",
    "    print(\"Reject the null hypothesis.\")\n",
    "else:\n",
    "    print(\"Fail to reject the null hypothesis.\")\n"
   ]
  },
  {
   "cell_type": "markdown",
   "id": "880e6d2e",
   "metadata": {},
   "source": [
    "- **we don't have enough evidence to say that previous campaign and Customer response are independent of each other.**\n",
    "- However we need to check whether poutcome is influencing the Customer response."
   ]
  },
  {
   "cell_type": "markdown",
   "id": "e53d76cb",
   "metadata": {},
   "source": [
    "## `Normality test`"
   ]
  },
  {
   "cell_type": "markdown",
   "id": "a2496ad6",
   "metadata": {},
   "source": [
    "### Normality check for the 'age' variable"
   ]
  },
  {
   "cell_type": "markdown",
   "id": "4d2d553e",
   "metadata": {},
   "source": [
    "- Null: age data is normally distributed\n",
    "- Alternate: age data is not normally distributed"
   ]
  },
  {
   "cell_type": "code",
   "execution_count": 33,
   "id": "096e1dd0",
   "metadata": {},
   "outputs": [
    {
     "name": "stdout",
     "output_type": "stream",
     "text": [
      "Statistics=0.941, p=0.000\n",
      "We reject the null hypothesis. Data is not normally distributed.\n"
     ]
    }
   ],
   "source": [
    "# Testing for normality\n",
    "stat, p = shapiro(data.age)\n",
    "print('Statistics=%.3f, p=%.3f' % (stat, p))\n",
    "\n",
    "# interpretation\n",
    "alpha = 0.05\n",
    "if p < alpha:\n",
    "    print('We reject the null hypothesis. Data is not normally distributed.')\n",
    "else:\n",
    "    print('Fail to reject the null hypothesis. Data follows a normal distribution.')"
   ]
  },
  {
   "cell_type": "markdown",
   "id": "2c8b8900",
   "metadata": {},
   "source": [
    "## `Two Sample Z - test`\n",
    "(since our sample is greater than 30)\n",
    "### To test the difference in the mean age between customers who subscribed to a term deposit and those who did not."
   ]
  },
  {
   "cell_type": "markdown",
   "id": "c11fbf83",
   "metadata": {},
   "source": [
    "- Null Hypothesis (H0): There is no significant difference in the mean age between customers who subscribed to a term deposit and those who did not.\n",
    "- Alternative Hypothesis (H1): There is a significant difference in the mean age."
   ]
  },
  {
   "cell_type": "code",
   "execution_count": 24,
   "id": "7919b3a4",
   "metadata": {},
   "outputs": [
    {
     "name": "stdout",
     "output_type": "stream",
     "text": [
      "Z Statistic: 7.952524092288905\n",
      "P-value: 1.827492777381958e-15\n",
      "Reject the null hypothesis. There is a significant difference in mean ages.\n"
     ]
    }
   ],
   "source": [
    "subscribed_age = data[data['Customer_Response'] == 'yes']['age']\n",
    "not_subscribed_age = data[data['Customer_Response'] == 'no']['age']\n",
    "\n",
    "z_statistic, p_value = test.ztest(x1=subscribed_age,x2=not_subscribed_age)\n",
    "\n",
    "print(\"Z Statistic:\", z_statistic)\n",
    "print(\"P-value:\", p_value)\n",
    "\n",
    "# Comparing p-value to the significance level (0.05)\n",
    "if p_value < 0.05:\n",
    "    print(\"Reject the null hypothesis.\")\n",
    "else:\n",
    "    print(\"Fail to reject the null hypothesis.\")\n"
   ]
  },
  {
   "cell_type": "markdown",
   "id": "73116bbf",
   "metadata": {},
   "source": [
    "- **We do not have enough evidance to say that the age of the customers who subscribed to the term term deposit and who did not are same.**"
   ]
  },
  {
   "cell_type": "markdown",
   "id": "b5e57814",
   "metadata": {},
   "source": [
    "### To test the difference in the average duration of campaign between customers who subscribed to a term deposit and those who did not."
   ]
  },
  {
   "cell_type": "markdown",
   "id": "ab178553",
   "metadata": {},
   "source": [
    "- Null Hypothesis (H0): There is no significant difference in the mean duration between customers who subscribed to a term deposit and those who did not.\n",
    "- Alternative Hypothesis (H1): There is a significant difference in the mean duration."
   ]
  },
  {
   "cell_type": "code",
   "execution_count": 25,
   "id": "02a50edd",
   "metadata": {},
   "outputs": [
    {
     "name": "stdout",
     "output_type": "stream",
     "text": [
      "Z Statistic: 71.46941360104718\n",
      "P-value: 0.0\n",
      "Reject the null hypothesis. There is a significant difference in mean duration.\n"
     ]
    }
   ],
   "source": [
    "subscribed_age = data[data['Customer_Response'] == 'yes']['duration']\n",
    "not_subscribed_age = data[data['Customer_Response'] == 'no']['duration']\n",
    "\n",
    "z_statistic, p_value = test.ztest(x1=subscribed_age,x2=not_subscribed_age)\n",
    "\n",
    "print(\"Z Statistic:\", z_statistic)\n",
    "print(\"P-value:\", p_value)\n",
    "\n",
    "# Comparing p-value to the significance level (0.05)\n",
    "if p_value < 0.05:\n",
    "    print(\"Reject the null hypothesis.\")\n",
    "else:\n",
    "    print(\"Fail to reject the null hypothesis.\")"
   ]
  },
  {
   "cell_type": "markdown",
   "id": "dec443b7",
   "metadata": {},
   "source": [
    "- **We do not have enough evidance to say that the duration of campaign of the customers who subscribed to the term deposit and who did not are same.**\n",
    "- Hence we can do the further investigation on this variable."
   ]
  },
  {
   "cell_type": "markdown",
   "id": "7faf9584",
   "metadata": {},
   "source": [
    "### To test if average duration of campaign is larger for those customers who subscribed to a term deposit than who did not."
   ]
  },
  {
   "cell_type": "markdown",
   "id": "087737ea",
   "metadata": {},
   "source": [
    "- Null Hypothesis (H0): There is no significant difference in the mean duration between customers who subscribed to a term deposit and those who did not.\n",
    "- Alternative Hypothesis (H1): Mean duration is larger for those who subscribed than who did not."
   ]
  },
  {
   "cell_type": "code",
   "execution_count": 29,
   "id": "9aea3e2e",
   "metadata": {},
   "outputs": [
    {
     "name": "stdout",
     "output_type": "stream",
     "text": [
      "Z Statistic: 71.46941360104718\n",
      "P-value: 0.0\n",
      "Reject the null hypothesis. Mean duration is significantly larger for those who subscribed than who did not.\n"
     ]
    }
   ],
   "source": [
    "subscribed_age = data[data['Customer_Response'] == 'yes']['duration']\n",
    "not_subscribed_age = data[data['Customer_Response'] == 'no']['duration']\n",
    "\n",
    "z_statistic, p_value = test.ztest(x1=subscribed_age,x2=not_subscribed_age, alternative=\"larger\")\n",
    "\n",
    "print(\"Z Statistic:\", z_statistic)\n",
    "print(\"P-value:\", p_value)\n",
    "\n",
    "# Comparing p-value to the significance level (0.05)\n",
    "if p_value < 0.05:\n",
    "    print(\"Reject the null hypothesis.\")\n",
    "else:\n",
    "    print(\"Fail to reject the null hypothesis.\")"
   ]
  },
  {
   "cell_type": "markdown",
   "id": "4fa4aff7",
   "metadata": {},
   "source": [
    "- **We do not have enough evidance to say that the duration of campaign of the customers who subscribed to the term deposit and who did not are same.**\n",
    "- Hence we can do the further investigation on this variable."
   ]
  },
  {
   "cell_type": "markdown",
   "id": "a0707151",
   "metadata": {},
   "source": [
    "### To test the difference in the mean nr.employed between customers who subscribed to a term deposit and those who did not."
   ]
  },
  {
   "cell_type": "markdown",
   "id": "e953a27f",
   "metadata": {},
   "source": [
    "- Null Hypothesis (H0): There is no significant difference in the mean nr.employed between customers who subscribed to a term deposit and those who did not.\n",
    "- Alternative Hypothesis (H1): There is a significant difference in the mean nr.employed."
   ]
  },
  {
   "cell_type": "code",
   "execution_count": 27,
   "id": "6b9352a3",
   "metadata": {},
   "outputs": [
    {
     "name": "stdout",
     "output_type": "stream",
     "text": [
      "Z Statistic: -65.50035284214754\n",
      "P-value: 0.0\n",
      "Reject the null hypothesis. There is a significant difference in mean nr.employed.\n"
     ]
    }
   ],
   "source": [
    "subscribed_age = data[data['Customer_Response'] == 'yes']['nr.employed']\n",
    "not_subscribed_age = data[data['Customer_Response'] == 'no']['nr.employed']\n",
    "\n",
    "z_statistic, p_value = test.ztest(x1=subscribed_age,x2=not_subscribed_age)\n",
    "\n",
    "print(\"Z Statistic:\", z_statistic)\n",
    "print(\"P-value:\", p_value)\n",
    "\n",
    "# Comparing p-value to the significance level (0.05)\n",
    "if p_value < 0.05:\n",
    "    print(\"Reject the null hypothesis.\")\n",
    "else:\n",
    "    print(\"Fail to reject the null hypothesis.\")"
   ]
  },
  {
   "cell_type": "markdown",
   "id": "c754b8d4",
   "metadata": {},
   "source": [
    "- **We do not have enough evidance to say that the average nr.employed of the customers who subscribed to the term deposit and who did not are same.**"
   ]
  },
  {
   "cell_type": "markdown",
   "id": "f7bc05fb",
   "metadata": {},
   "source": [
    "### To test the difference in the average number of contacts between customers who subscribed to a term deposit and those who did not."
   ]
  },
  {
   "cell_type": "markdown",
   "id": "8bb69fd6",
   "metadata": {},
   "source": [
    "- Null Hypothesis (H0): There is no significant difference in the mean number of contacts between customers who subscribed to a term deposit and those who did not.\n",
    "- Alternative Hypothesis (H1): There is a significant difference in the mean number of contacts."
   ]
  },
  {
   "cell_type": "code",
   "execution_count": 28,
   "id": "6d3b2cab",
   "metadata": {},
   "outputs": [
    {
     "name": "stdout",
     "output_type": "stream",
     "text": [
      "Z Statistic: -11.65347123368027\n",
      "P-value: 2.2029862491314617e-31\n",
      "Reject the null hypothesis. There is a significant difference in mean number of contacts.\n"
     ]
    }
   ],
   "source": [
    "subscribed_age = data[data['Customer_Response'] == 'yes']['campaign']\n",
    "not_subscribed_age = data[data['Customer_Response'] == 'no']['campaign']\n",
    "\n",
    "z_statistic, p_value = test.ztest(x1=subscribed_age,x2=not_subscribed_age)\n",
    "\n",
    "print(\"Z Statistic:\", z_statistic)\n",
    "print(\"P-value:\", p_value)\n",
    "\n",
    "# Comparing p-value to the significance level (0.05)\n",
    "if p_value < 0.05:\n",
    "    print(\"Reject the null hypothesis.\")\n",
    "else:\n",
    "    print(\"Fail to reject the null hypothesis.\")"
   ]
  },
  {
   "cell_type": "markdown",
   "id": "22a1eebd",
   "metadata": {},
   "source": [
    "- **We do not have enough evidance to say that the number of contacts with the customers who subscribed to the term deposit and who did not are same.**"
   ]
  },
  {
   "cell_type": "code",
   "execution_count": null,
   "id": "ac6c4f2e",
   "metadata": {},
   "outputs": [],
   "source": []
  }
 ],
 "metadata": {
  "kernelspec": {
   "display_name": "Python 3 (ipykernel)",
   "language": "python",
   "name": "python3"
  },
  "language_info": {
   "codemirror_mode": {
    "name": "ipython",
    "version": 3
   },
   "file_extension": ".py",
   "mimetype": "text/x-python",
   "name": "python",
   "nbconvert_exporter": "python",
   "pygments_lexer": "ipython3",
   "version": "3.12.2"
  }
 },
 "nbformat": 4,
 "nbformat_minor": 5
}
